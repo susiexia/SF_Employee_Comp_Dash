{
 "cells": [
  {
   "cell_type": "markdown",
   "metadata": {},
   "source": [
    "## NB Goal:\n",
    "This Notebook plan to discover and explore trends and relationship behind the SF Employee Compensation datasets, in order to prepare a data cleaning function for further visualization.\n",
    "\n",
    "## Steps:\n",
    "* Section 1: Load and Glance\n",
    "* Section 2: EDA\n",
    "* Section 3: Further investigation \n",
    "    * Duplicate employee investigation\n",
    "    * Negative and zero Numerical Value \n",
    "    * Numerical variables Perfect multicollinearity investigation\n",
    "    * Outliers investigation\n"
   ]
  },
  {
   "cell_type": "code",
   "execution_count": 1,
   "metadata": {},
   "outputs": [],
   "source": [
    "import pandas as pd\n",
    "import seaborn as sns\n",
    "import numpy as np\n",
    "from scipy import stats\n",
    "import matplotlib.pyplot as plt\n",
    "\n",
    "\n",
    "from sodapy import Socrata\n",
    "from config import API_Token\n",
    "\n",
    "plt.style.use('fivethirtyeight')\n",
    "\n",
    "%matplotlib inline"
   ]
  },
  {
   "cell_type": "markdown",
   "metadata": {},
   "source": [
    "## Section 1: Load and Glance\n",
    "\n",
    "### Assumptions and scope:\n",
    "The origin datasets contains over 750K records from 2014 to 2022, Since the project goal is ultimately building an interactive dashborad app, I decide to query a part of dataset by filtering calendar year only and within past 5 years from 2018 to 2022. \n",
    "### Steps:\n",
    "1. Load data through API with preliminary filter query\n",
    "2. Discover dataframe general information\n",
    "3. Columns data types transform and clean\n",
    "\n",
    "### Insights:\n",
    "Currently, the dataset we used has 168437 rows and 22 columns. Ater cleaning, we have 10 numerical features like salaries and total_compensation column. "
   ]
  },
  {
   "cell_type": "code",
   "execution_count": 2,
   "metadata": {},
   "outputs": [
    {
     "data": {
      "text/plain": [
       "(168437, 22)"
      ]
     },
     "execution_count": 2,
     "metadata": {},
     "output_type": "execute_result"
    }
   ],
   "source": [
    "# API Call\n",
    "socrata_domain = 'data.sfgov.org,'\n",
    "socrata_dataset_identifier = '88g8-5mnd'\n",
    "client = Socrata(\"data.sfgov.org\",API_Token)\n",
    "# add filter\n",
    "results = client.get_all(socrata_dataset_identifier, \n",
    "    where = \"year in ('2018','2019','2020','2021','2022') and year_type = 'Calendar'\" )\n",
    "\n",
    "df_origin = pd.DataFrame(results)\n",
    "# alternative#1 csv file\n",
    "# df_origin = pd.read_csv('data/Employee_Compensation.csv')\n",
    "# alternative#2 json file\n",
    "# df_origin = pd.read_json('https://data.sfgov.org/resource/88g8-5mnd.json')\n",
    "\n",
    "df_origin.shape  # (168437, 22)"
   ]
  },
  {
   "cell_type": "code",
   "execution_count": 3,
   "metadata": {},
   "outputs": [
    {
     "name": "stdout",
     "output_type": "stream",
     "text": [
      "<class 'pandas.core.frame.DataFrame'>\n",
      "RangeIndex: 168437 entries, 0 to 168436\n",
      "Data columns (total 22 columns):\n",
      " #   Column                   Non-Null Count   Dtype \n",
      "---  ------                   --------------   ----- \n",
      " 0   organization_group_code  168437 non-null  object\n",
      " 1   job_family_code          168437 non-null  object\n",
      " 2   job_code                 168437 non-null  object\n",
      " 3   year_type                168437 non-null  object\n",
      " 4   year                     168437 non-null  object\n",
      " 5   organization_group       168437 non-null  object\n",
      " 6   department_code          168437 non-null  object\n",
      " 7   department               168437 non-null  object\n",
      " 8   union_code               168437 non-null  object\n",
      " 9   union                    168437 non-null  object\n",
      " 10  job_family               168437 non-null  object\n",
      " 11  job                      168437 non-null  object\n",
      " 12  employee_identifier      168437 non-null  object\n",
      " 13  salaries                 168437 non-null  object\n",
      " 14  overtime                 168437 non-null  object\n",
      " 15  other_salaries           168437 non-null  object\n",
      " 16  total_salary             168437 non-null  object\n",
      " 17  retirement               168437 non-null  object\n",
      " 18  health_and_dental        168437 non-null  object\n",
      " 19  other_benefits           168437 non-null  object\n",
      " 20  total_benefits           168437 non-null  object\n",
      " 21  total_compensation       168437 non-null  object\n",
      "dtypes: object(22)\n",
      "memory usage: 28.3+ MB\n",
      "None\n"
     ]
    }
   ],
   "source": [
    "# make a copy to avoid editing origin data\n",
    "df = df_origin.copy()\n",
    "df.head(5)\n",
    "print(df.info())"
   ]
  },
  {
   "cell_type": "markdown",
   "metadata": {},
   "source": [
    "### 3. Columns Transform and clean\n",
    "\n",
    "### Asumption: \n",
    "* Transform the year and salaries-related(money_related) columns into numerical, and keep information columns such as employee_id, group code, familiy code as categorical features.\n",
    "\n",
    "* Irrelevant columns: Union related columns are out of our current scope. "
   ]
  },
  {
   "cell_type": "code",
   "execution_count": 4,
   "metadata": {},
   "outputs": [
    {
     "name": "stdout",
     "output_type": "stream",
     "text": [
      "['organization_group_code', 'job_family_code', 'job_code', 'year_type', 'year', 'organization_group', 'department_code', 'department', 'union_code', 'union', 'job_family', 'job', 'employee_identifier', 'salaries', 'overtime', 'other_salaries', 'total_salary', 'retirement', 'health_and_dental', 'other_benefits', 'total_benefits', 'total_compensation']\n",
      "We have total of 22 columns\n",
      "organization_group_code    object\n",
      "job_family_code            object\n",
      "job_code                   object\n",
      "year_type                  object\n",
      "year                       object\n",
      "organization_group         object\n",
      "department_code            object\n",
      "department                 object\n",
      "union_code                 object\n",
      "union                      object\n",
      "job_family                 object\n",
      "job                        object\n",
      "employee_identifier        object\n",
      "salaries                   object\n",
      "overtime                   object\n",
      "other_salaries             object\n",
      "total_salary               object\n",
      "retirement                 object\n",
      "health_and_dental          object\n",
      "other_benefits             object\n",
      "total_benefits             object\n",
      "total_compensation         object\n",
      "dtype: object\n"
     ]
    }
   ],
   "source": [
    "# clean up column names, save into a list, check the data type\n",
    "df.columns = df.columns.str.strip().str.lower().str.replace(' ', '_')\n",
    "column_name = df.columns.tolist()\n",
    "print(column_name)\n",
    "print(f'We have total of {len(column_name)} columns')\n",
    "print(df.dtypes)"
   ]
  },
  {
   "cell_type": "markdown",
   "metadata": {},
   "source": []
  },
  {
   "cell_type": "code",
   "execution_count": 5,
   "metadata": {},
   "outputs": [
    {
     "name": "stdout",
     "output_type": "stream",
     "text": [
      "organization_group_code     object\n",
      "job_family_code             object\n",
      "job_code                    object\n",
      "year_type                   object\n",
      "year                         int64\n",
      "organization_group          object\n",
      "department_code             object\n",
      "department                  object\n",
      "union_code                  object\n",
      "union                       object\n",
      "job_family                  object\n",
      "job                         object\n",
      "employee_identifier         object\n",
      "salaries                   float64\n",
      "overtime                   float64\n",
      "other_salaries             float64\n",
      "total_salary               float64\n",
      "retirement                 float64\n",
      "health_and_dental          float64\n",
      "other_benefits             float64\n",
      "total_benefits             float64\n",
      "total_compensation         float64\n",
      "dtype: object\n"
     ]
    }
   ],
   "source": [
    "# define the numerical column\n",
    "numerical_column_names = [ 'year', 'salaries', 'overtime', 'other_salaries', 'total_salary', 'retirement', 'health_and_dental', 'other_benefits', 'total_benefits', 'total_compensation']\n",
    "\n",
    "# change data types\n",
    "for column in column_name:\n",
    "    if column in numerical_column_names:\n",
    "        if column == 'year':\n",
    "            df[column] = df[column].astype('int')\n",
    "        else:\n",
    "            df[column] = df[column].astype('float64')\n",
    "print(df.dtypes)"
   ]
  },
  {
   "cell_type": "markdown",
   "metadata": {},
   "source": [
    "# Section 2: EDA\n",
    "1. Summary Statistics\n",
    "2. missing value\n",
    "\n",
    "## Insights:\n",
    "There is no missing data in all columns.\n",
    "the year range is within range, 2022 data shifts 50% median value to 2019, instead of 2020\n",
    "\n",
    "salaries are righ-skewed(mean > median), since large value/outlier pull mean towards right.\n",
    "\n",
    "6 unique organization group, 51 department, 56 job family, 1111 job_code, 66 or 69 union \n",
    "\n",
    "irrelavant columns such as code information, union information\n",
    "\n",
    "\n",
    "## Further investigation:\n",
    "1. Negative in salaries to make high level total_salary as 0, will try to take a closely look at these 0 rows\n",
    "2. Zero value in money-related columns('total_compensation)\n",
    "3. Duplicate Employee_iderntifer\n",
    "2. Outliers"
   ]
  },
  {
   "cell_type": "code",
   "execution_count": 6,
   "metadata": {},
   "outputs": [
    {
     "data": {
      "text/html": [
       "<div>\n",
       "<style scoped>\n",
       "    .dataframe tbody tr th:only-of-type {\n",
       "        vertical-align: middle;\n",
       "    }\n",
       "\n",
       "    .dataframe tbody tr th {\n",
       "        vertical-align: top;\n",
       "    }\n",
       "\n",
       "    .dataframe thead th {\n",
       "        text-align: right;\n",
       "    }\n",
       "</style>\n",
       "<table border=\"1\" class=\"dataframe\">\n",
       "  <thead>\n",
       "    <tr style=\"text-align: right;\">\n",
       "      <th></th>\n",
       "      <th>year</th>\n",
       "      <th>salaries</th>\n",
       "      <th>overtime</th>\n",
       "      <th>other_salaries</th>\n",
       "      <th>total_salary</th>\n",
       "      <th>retirement</th>\n",
       "      <th>health_and_dental</th>\n",
       "      <th>other_benefits</th>\n",
       "      <th>total_benefits</th>\n",
       "      <th>total_compensation</th>\n",
       "    </tr>\n",
       "  </thead>\n",
       "  <tbody>\n",
       "    <tr>\n",
       "      <th>count</th>\n",
       "      <td>168437.000000</td>\n",
       "      <td>168437.000000</td>\n",
       "      <td>168437.000000</td>\n",
       "      <td>168437.000000</td>\n",
       "      <td>168437.000000</td>\n",
       "      <td>168437.000000</td>\n",
       "      <td>168437.000000</td>\n",
       "      <td>168437.000000</td>\n",
       "      <td>168437.000000</td>\n",
       "      <td>168437.000000</td>\n",
       "    </tr>\n",
       "    <tr>\n",
       "      <th>mean</th>\n",
       "      <td>2019.465628</td>\n",
       "      <td>82429.954530</td>\n",
       "      <td>7078.091892</td>\n",
       "      <td>3910.599044</td>\n",
       "      <td>93418.645465</td>\n",
       "      <td>17197.856361</td>\n",
       "      <td>11901.419924</td>\n",
       "      <td>5816.690627</td>\n",
       "      <td>34915.966912</td>\n",
       "      <td>128334.612378</td>\n",
       "    </tr>\n",
       "    <tr>\n",
       "      <th>std</th>\n",
       "      <td>1.110878</td>\n",
       "      <td>51999.156269</td>\n",
       "      <td>16048.602443</td>\n",
       "      <td>7786.099876</td>\n",
       "      <td>60913.718752</td>\n",
       "      <td>12232.590140</td>\n",
       "      <td>6681.298768</td>\n",
       "      <td>3702.460204</td>\n",
       "      <td>20464.999950</td>\n",
       "      <td>79653.803756</td>\n",
       "    </tr>\n",
       "    <tr>\n",
       "      <th>min</th>\n",
       "      <td>2018.000000</td>\n",
       "      <td>-9942.330000</td>\n",
       "      <td>-22453.280000</td>\n",
       "      <td>-480.000000</td>\n",
       "      <td>0.000000</td>\n",
       "      <td>-37.890000</td>\n",
       "      <td>-745.720000</td>\n",
       "      <td>0.000000</td>\n",
       "      <td>0.000000</td>\n",
       "      <td>0.000000</td>\n",
       "    </tr>\n",
       "    <tr>\n",
       "      <th>25%</th>\n",
       "      <td>2018.000000</td>\n",
       "      <td>47643.000000</td>\n",
       "      <td>0.000000</td>\n",
       "      <td>0.000000</td>\n",
       "      <td>52245.360000</td>\n",
       "      <td>8876.520000</td>\n",
       "      <td>7718.990000</td>\n",
       "      <td>2528.620000</td>\n",
       "      <td>20528.870000</td>\n",
       "      <td>74311.860000</td>\n",
       "    </tr>\n",
       "    <tr>\n",
       "      <th>50%</th>\n",
       "      <td>2019.000000</td>\n",
       "      <td>80493.500000</td>\n",
       "      <td>62.070000</td>\n",
       "      <td>862.500000</td>\n",
       "      <td>89841.010000</td>\n",
       "      <td>16923.670000</td>\n",
       "      <td>14950.300000</td>\n",
       "      <td>5923.960000</td>\n",
       "      <td>38512.260000</td>\n",
       "      <td>128503.140000</td>\n",
       "    </tr>\n",
       "    <tr>\n",
       "      <th>75%</th>\n",
       "      <td>2020.000000</td>\n",
       "      <td>115906.160000</td>\n",
       "      <td>6562.110000</td>\n",
       "      <td>4581.330000</td>\n",
       "      <td>130409.340000</td>\n",
       "      <td>24197.040000</td>\n",
       "      <td>16303.470000</td>\n",
       "      <td>8699.000000</td>\n",
       "      <td>47968.360000</td>\n",
       "      <td>179060.980000</td>\n",
       "    </tr>\n",
       "    <tr>\n",
       "      <th>max</th>\n",
       "      <td>2021.000000</td>\n",
       "      <td>596615.860000</td>\n",
       "      <td>315896.410000</td>\n",
       "      <td>326959.390000</td>\n",
       "      <td>596615.860000</td>\n",
       "      <td>150142.960000</td>\n",
       "      <td>59405.230000</td>\n",
       "      <td>18779.490000</td>\n",
       "      <td>175232.200000</td>\n",
       "      <td>762684.040000</td>\n",
       "    </tr>\n",
       "  </tbody>\n",
       "</table>\n",
       "</div>"
      ],
      "text/plain": [
       "                year       salaries       overtime  other_salaries  \\\n",
       "count  168437.000000  168437.000000  168437.000000   168437.000000   \n",
       "mean     2019.465628   82429.954530    7078.091892     3910.599044   \n",
       "std         1.110878   51999.156269   16048.602443     7786.099876   \n",
       "min      2018.000000   -9942.330000  -22453.280000     -480.000000   \n",
       "25%      2018.000000   47643.000000       0.000000        0.000000   \n",
       "50%      2019.000000   80493.500000      62.070000      862.500000   \n",
       "75%      2020.000000  115906.160000    6562.110000     4581.330000   \n",
       "max      2021.000000  596615.860000  315896.410000   326959.390000   \n",
       "\n",
       "        total_salary     retirement  health_and_dental  other_benefits  \\\n",
       "count  168437.000000  168437.000000      168437.000000   168437.000000   \n",
       "mean    93418.645465   17197.856361       11901.419924     5816.690627   \n",
       "std     60913.718752   12232.590140        6681.298768     3702.460204   \n",
       "min         0.000000     -37.890000        -745.720000        0.000000   \n",
       "25%     52245.360000    8876.520000        7718.990000     2528.620000   \n",
       "50%     89841.010000   16923.670000       14950.300000     5923.960000   \n",
       "75%    130409.340000   24197.040000       16303.470000     8699.000000   \n",
       "max    596615.860000  150142.960000       59405.230000    18779.490000   \n",
       "\n",
       "       total_benefits  total_compensation  \n",
       "count   168437.000000       168437.000000  \n",
       "mean     34915.966912       128334.612378  \n",
       "std      20464.999950        79653.803756  \n",
       "min          0.000000            0.000000  \n",
       "25%      20528.870000        74311.860000  \n",
       "50%      38512.260000       128503.140000  \n",
       "75%      47968.360000       179060.980000  \n",
       "max     175232.200000       762684.040000  "
      ]
     },
     "execution_count": 6,
     "metadata": {},
     "output_type": "execute_result"
    }
   ],
   "source": [
    "df.describe()"
   ]
  },
  {
   "cell_type": "code",
   "execution_count": 7,
   "metadata": {},
   "outputs": [
    {
     "data": {
      "text/html": [
       "<div>\n",
       "<style scoped>\n",
       "    .dataframe tbody tr th:only-of-type {\n",
       "        vertical-align: middle;\n",
       "    }\n",
       "\n",
       "    .dataframe tbody tr th {\n",
       "        vertical-align: top;\n",
       "    }\n",
       "\n",
       "    .dataframe thead th {\n",
       "        text-align: right;\n",
       "    }\n",
       "</style>\n",
       "<table border=\"1\" class=\"dataframe\">\n",
       "  <thead>\n",
       "    <tr style=\"text-align: right;\">\n",
       "      <th></th>\n",
       "      <th>organization_group_code</th>\n",
       "      <th>job_family_code</th>\n",
       "      <th>job_code</th>\n",
       "      <th>year_type</th>\n",
       "      <th>organization_group</th>\n",
       "      <th>department_code</th>\n",
       "      <th>department</th>\n",
       "      <th>union_code</th>\n",
       "      <th>union</th>\n",
       "      <th>job_family</th>\n",
       "      <th>job</th>\n",
       "      <th>employee_identifier</th>\n",
       "    </tr>\n",
       "  </thead>\n",
       "  <tbody>\n",
       "    <tr>\n",
       "      <th>count</th>\n",
       "      <td>168437</td>\n",
       "      <td>168437</td>\n",
       "      <td>168437</td>\n",
       "      <td>168437</td>\n",
       "      <td>168437</td>\n",
       "      <td>168437</td>\n",
       "      <td>168437</td>\n",
       "      <td>168437</td>\n",
       "      <td>168437</td>\n",
       "      <td>168437</td>\n",
       "      <td>168437</td>\n",
       "      <td>168437</td>\n",
       "    </tr>\n",
       "    <tr>\n",
       "      <th>unique</th>\n",
       "      <td>6</td>\n",
       "      <td>57</td>\n",
       "      <td>1111</td>\n",
       "      <td>1</td>\n",
       "      <td>6</td>\n",
       "      <td>51</td>\n",
       "      <td>51</td>\n",
       "      <td>69</td>\n",
       "      <td>66</td>\n",
       "      <td>56</td>\n",
       "      <td>1111</td>\n",
       "      <td>164211</td>\n",
       "    </tr>\n",
       "    <tr>\n",
       "      <th>top</th>\n",
       "      <td>02</td>\n",
       "      <td>2300</td>\n",
       "      <td>9163</td>\n",
       "      <td>Calendar</td>\n",
       "      <td>Public Works, Transportation &amp; Commerce</td>\n",
       "      <td>DPH</td>\n",
       "      <td>Public Health</td>\n",
       "      <td>790</td>\n",
       "      <td>SEIU, Local 1021, Misc</td>\n",
       "      <td>Nursing</td>\n",
       "      <td>Transit Operator</td>\n",
       "      <td>0</td>\n",
       "    </tr>\n",
       "    <tr>\n",
       "      <th>freq</th>\n",
       "      <td>53192</td>\n",
       "      <td>18130</td>\n",
       "      <td>10986</td>\n",
       "      <td>168437</td>\n",
       "      <td>53192</td>\n",
       "      <td>38362</td>\n",
       "      <td>38362</td>\n",
       "      <td>46720</td>\n",
       "      <td>63754</td>\n",
       "      <td>18130</td>\n",
       "      <td>10986</td>\n",
       "      <td>6</td>\n",
       "    </tr>\n",
       "  </tbody>\n",
       "</table>\n",
       "</div>"
      ],
      "text/plain": [
       "       organization_group_code job_family_code job_code year_type  \\\n",
       "count                   168437          168437   168437    168437   \n",
       "unique                       6              57     1111         1   \n",
       "top                         02            2300     9163  Calendar   \n",
       "freq                     53192           18130    10986    168437   \n",
       "\n",
       "                             organization_group department_code  \\\n",
       "count                                    168437          168437   \n",
       "unique                                        6              51   \n",
       "top     Public Works, Transportation & Commerce             DPH   \n",
       "freq                                      53192           38362   \n",
       "\n",
       "           department union_code                   union job_family  \\\n",
       "count          168437     168437                  168437     168437   \n",
       "unique             51         69                      66         56   \n",
       "top     Public Health        790  SEIU, Local 1021, Misc    Nursing   \n",
       "freq            38362      46720                   63754      18130   \n",
       "\n",
       "                     job employee_identifier  \n",
       "count             168437              168437  \n",
       "unique              1111              164211  \n",
       "top     Transit Operator                   0  \n",
       "freq               10986                   6  "
      ]
     },
     "execution_count": 7,
     "metadata": {},
     "output_type": "execute_result"
    }
   ],
   "source": [
    "df.describe(include='object')\n"
   ]
  },
  {
   "cell_type": "markdown",
   "metadata": {},
   "source": []
  },
  {
   "cell_type": "code",
   "execution_count": 8,
   "metadata": {},
   "outputs": [
    {
     "data": {
      "text/html": [
       "<div>\n",
       "<style scoped>\n",
       "    .dataframe tbody tr th:only-of-type {\n",
       "        vertical-align: middle;\n",
       "    }\n",
       "\n",
       "    .dataframe tbody tr th {\n",
       "        vertical-align: top;\n",
       "    }\n",
       "\n",
       "    .dataframe thead th {\n",
       "        text-align: right;\n",
       "    }\n",
       "</style>\n",
       "<table border=\"1\" class=\"dataframe\">\n",
       "  <thead>\n",
       "    <tr style=\"text-align: right;\">\n",
       "      <th></th>\n",
       "      <th>year</th>\n",
       "      <th>organization_group</th>\n",
       "      <th>department</th>\n",
       "      <th>job_family</th>\n",
       "      <th>job</th>\n",
       "      <th>employee_identifier</th>\n",
       "      <th>salaries</th>\n",
       "      <th>overtime</th>\n",
       "      <th>other_salaries</th>\n",
       "      <th>total_salary</th>\n",
       "      <th>retirement</th>\n",
       "      <th>health_and_dental</th>\n",
       "      <th>other_benefits</th>\n",
       "      <th>total_benefits</th>\n",
       "      <th>total_compensation</th>\n",
       "    </tr>\n",
       "  </thead>\n",
       "  <tbody>\n",
       "    <tr>\n",
       "      <th>0</th>\n",
       "      <td>2018</td>\n",
       "      <td>Public Protection</td>\n",
       "      <td>Adult Probation</td>\n",
       "      <td>Information Systems</td>\n",
       "      <td>IS Trainer-Journey</td>\n",
       "      <td>38405932</td>\n",
       "      <td>81096.04</td>\n",
       "      <td>0.0</td>\n",
       "      <td>0.0</td>\n",
       "      <td>81096.04</td>\n",
       "      <td>15556.78</td>\n",
       "      <td>14433.94</td>\n",
       "      <td>6076.79</td>\n",
       "      <td>36067.51</td>\n",
       "      <td>117163.55</td>\n",
       "    </tr>\n",
       "    <tr>\n",
       "      <th>1</th>\n",
       "      <td>2018</td>\n",
       "      <td>Public Protection</td>\n",
       "      <td>Adult Probation</td>\n",
       "      <td>Information Systems</td>\n",
       "      <td>IS Engineer-Assistant</td>\n",
       "      <td>37915952</td>\n",
       "      <td>115053.11</td>\n",
       "      <td>0.0</td>\n",
       "      <td>0.0</td>\n",
       "      <td>115053.11</td>\n",
       "      <td>22071.21</td>\n",
       "      <td>14433.94</td>\n",
       "      <td>9059.88</td>\n",
       "      <td>45565.03</td>\n",
       "      <td>160618.14</td>\n",
       "    </tr>\n",
       "    <tr>\n",
       "      <th>2</th>\n",
       "      <td>2018</td>\n",
       "      <td>Public Protection</td>\n",
       "      <td>Adult Probation</td>\n",
       "      <td>Information Systems</td>\n",
       "      <td>IS Business Analyst-Senior</td>\n",
       "      <td>37905927</td>\n",
       "      <td>107355.32</td>\n",
       "      <td>0.0</td>\n",
       "      <td>0.0</td>\n",
       "      <td>107355.32</td>\n",
       "      <td>20594.40</td>\n",
       "      <td>14433.94</td>\n",
       "      <td>8171.53</td>\n",
       "      <td>43199.87</td>\n",
       "      <td>150555.19</td>\n",
       "    </tr>\n",
       "    <tr>\n",
       "      <th>3</th>\n",
       "      <td>2018</td>\n",
       "      <td>Public Protection</td>\n",
       "      <td>Adult Probation</td>\n",
       "      <td>Information Systems</td>\n",
       "      <td>IS Business Analyst-Principal</td>\n",
       "      <td>37477463</td>\n",
       "      <td>154758.00</td>\n",
       "      <td>0.0</td>\n",
       "      <td>0.0</td>\n",
       "      <td>154758.00</td>\n",
       "      <td>28939.26</td>\n",
       "      <td>14433.94</td>\n",
       "      <td>10980.30</td>\n",
       "      <td>54353.50</td>\n",
       "      <td>209111.50</td>\n",
       "    </tr>\n",
       "    <tr>\n",
       "      <th>4</th>\n",
       "      <td>2018</td>\n",
       "      <td>Public Protection</td>\n",
       "      <td>Adult Probation</td>\n",
       "      <td>Information Systems</td>\n",
       "      <td>IS Programmer Analyst</td>\n",
       "      <td>37483360</td>\n",
       "      <td>91988.81</td>\n",
       "      <td>0.0</td>\n",
       "      <td>0.0</td>\n",
       "      <td>91988.81</td>\n",
       "      <td>17647.11</td>\n",
       "      <td>14433.94</td>\n",
       "      <td>7214.21</td>\n",
       "      <td>39295.26</td>\n",
       "      <td>131284.07</td>\n",
       "    </tr>\n",
       "  </tbody>\n",
       "</table>\n",
       "</div>"
      ],
      "text/plain": [
       "   year organization_group       department           job_family  \\\n",
       "0  2018  Public Protection  Adult Probation  Information Systems   \n",
       "1  2018  Public Protection  Adult Probation  Information Systems   \n",
       "2  2018  Public Protection  Adult Probation  Information Systems   \n",
       "3  2018  Public Protection  Adult Probation  Information Systems   \n",
       "4  2018  Public Protection  Adult Probation  Information Systems   \n",
       "\n",
       "                             job employee_identifier   salaries  overtime  \\\n",
       "0             IS Trainer-Journey            38405932   81096.04       0.0   \n",
       "1          IS Engineer-Assistant            37915952  115053.11       0.0   \n",
       "2     IS Business Analyst-Senior            37905927  107355.32       0.0   \n",
       "3  IS Business Analyst-Principal            37477463  154758.00       0.0   \n",
       "4          IS Programmer Analyst            37483360   91988.81       0.0   \n",
       "\n",
       "   other_salaries  total_salary  retirement  health_and_dental  \\\n",
       "0             0.0      81096.04    15556.78           14433.94   \n",
       "1             0.0     115053.11    22071.21           14433.94   \n",
       "2             0.0     107355.32    20594.40           14433.94   \n",
       "3             0.0     154758.00    28939.26           14433.94   \n",
       "4             0.0      91988.81    17647.11           14433.94   \n",
       "\n",
       "   other_benefits  total_benefits  total_compensation  \n",
       "0         6076.79        36067.51           117163.55  \n",
       "1         9059.88        45565.03           160618.14  \n",
       "2         8171.53        43199.87           150555.19  \n",
       "3        10980.30        54353.50           209111.50  \n",
       "4         7214.21        39295.26           131284.07  "
      ]
     },
     "execution_count": 8,
     "metadata": {},
     "output_type": "execute_result"
    }
   ],
   "source": [
    "# drop inrrelevant features \n",
    "relevant_cat_column_name = [ 'organization_group', 'department', 'job_family',  'job', 'employee_identifier']\n",
    "irrelavant_column_name = ['organization_group_code', 'job_family_code', 'job_code', 'year_type', 'department_code',  'union_code', 'union']\n",
    "df = df.drop(irrelavant_column_name, axis=1)\n",
    "df.head() #(168437, 15)"
   ]
  },
  {
   "cell_type": "code",
   "execution_count": 9,
   "metadata": {},
   "outputs": [
    {
     "data": {
      "text/plain": [
       "(168437, 15)"
      ]
     },
     "execution_count": 9,
     "metadata": {},
     "output_type": "execute_result"
    }
   ],
   "source": [
    "df.shape"
   ]
  },
  {
   "cell_type": "code",
   "execution_count": 10,
   "metadata": {},
   "outputs": [
    {
     "data": {
      "text/plain": [
       "year                   0.0\n",
       "organization_group     0.0\n",
       "department             0.0\n",
       "job_family             0.0\n",
       "job                    0.0\n",
       "employee_identifier    0.0\n",
       "salaries               0.0\n",
       "overtime               0.0\n",
       "other_salaries         0.0\n",
       "total_salary           0.0\n",
       "retirement             0.0\n",
       "health_and_dental      0.0\n",
       "other_benefits         0.0\n",
       "total_benefits         0.0\n",
       "total_compensation     0.0\n",
       "dtype: float64"
      ]
     },
     "execution_count": 10,
     "metadata": {},
     "output_type": "execute_result"
    }
   ],
   "source": [
    "# no missing data\n",
    "miss_percent = df.isnull().sum()/ df.shape[0] * 100\n",
    "miss_percent"
   ]
  },
  {
   "cell_type": "markdown",
   "metadata": {},
   "source": [
    "## Section 3: data challenges\n",
    "1. Duplicate employee investigation\n",
    "2. Negative Numerical Value \n",
    "2. Numerical features relationship\n"
   ]
  },
  {
   "cell_type": "markdown",
   "metadata": {},
   "source": [
    "### Duplicate employee investigation\n",
    "#### Insights:\n",
    "1. check if meaningless records in employee_id ===> total of 6 records have '0' in employee_id\n",
    "2. 4226 duplicate employees_id\n",
    "3. 3990 employee_ID has multiple job\n",
    "\n",
    "#### Action\n",
    "Drop the dulitcate, since 4226 of 168437 total employees can be neglected, so all rows will be omitted."
   ]
  },
  {
   "cell_type": "code",
   "execution_count": 11,
   "metadata": {},
   "outputs": [
    {
     "name": "stdout",
     "output_type": "stream",
     "text": [
      "6 employee_ID are 0\n"
     ]
    }
   ],
   "source": [
    "# There are 4226 example has duplicate employeeIid, \n",
    "df[df.employee_identifier.duplicated()].shape # (4226, 15)\n",
    "\n",
    "#check zero record\n",
    "zero_employee_cnt = len(df[df.employee_identifier =='0'])\n",
    "print(f'{zero_employee_cnt} employee_ID are 0')"
   ]
  },
  {
   "cell_type": "code",
   "execution_count": 13,
   "metadata": {},
   "outputs": [
    {
     "name": "stdout",
     "output_type": "stream",
     "text": [
      "3990 employee_ID has multiple job\n"
     ]
    }
   ],
   "source": [
    "# how many employee has more than one job, 3990\n",
    "multiple_job_employee = df.groupby('employee_identifier')['job'].count()\n",
    "print(len(multiple_job_employee[multiple_job_employee!=1]),'employee_ID has multiple job')"
   ]
  },
  {
   "cell_type": "code",
   "execution_count": 14,
   "metadata": {},
   "outputs": [
    {
     "data": {
      "text/plain": [
       "164211"
      ]
     },
     "execution_count": 14,
     "metadata": {},
     "output_type": "execute_result"
    }
   ],
   "source": [
    "df.employee_identifier.nunique()"
   ]
  },
  {
   "cell_type": "code",
   "execution_count": 15,
   "metadata": {},
   "outputs": [
    {
     "data": {
      "text/plain": [
       "4226"
      ]
     },
     "execution_count": 15,
     "metadata": {},
     "output_type": "execute_result"
    }
   ],
   "source": [
    "df.employee_identifier.duplicated().sum()"
   ]
  },
  {
   "cell_type": "markdown",
   "metadata": {},
   "source": [
    "#### Action"
   ]
  },
  {
   "cell_type": "code",
   "execution_count": 16,
   "metadata": {},
   "outputs": [
    {
     "data": {
      "text/plain": [
       "(164211, 15)"
      ]
     },
     "execution_count": 16,
     "metadata": {},
     "output_type": "execute_result"
    }
   ],
   "source": [
    "df = df.drop_duplicates(subset=['employee_identifier'], keep='last',ignore_index=True)\n",
    "\n",
    "df.shape"
   ]
  },
  {
   "cell_type": "code",
   "execution_count": 17,
   "metadata": {},
   "outputs": [
    {
     "data": {
      "text/html": [
       "<div>\n",
       "<style scoped>\n",
       "    .dataframe tbody tr th:only-of-type {\n",
       "        vertical-align: middle;\n",
       "    }\n",
       "\n",
       "    .dataframe tbody tr th {\n",
       "        vertical-align: top;\n",
       "    }\n",
       "\n",
       "    .dataframe thead th {\n",
       "        text-align: right;\n",
       "    }\n",
       "</style>\n",
       "<table border=\"1\" class=\"dataframe\">\n",
       "  <thead>\n",
       "    <tr style=\"text-align: right;\">\n",
       "      <th></th>\n",
       "      <th>year</th>\n",
       "      <th>organization_group</th>\n",
       "      <th>department</th>\n",
       "      <th>job_family</th>\n",
       "      <th>job</th>\n",
       "      <th>employee_identifier</th>\n",
       "      <th>salaries</th>\n",
       "      <th>overtime</th>\n",
       "      <th>other_salaries</th>\n",
       "      <th>total_salary</th>\n",
       "      <th>retirement</th>\n",
       "      <th>health_and_dental</th>\n",
       "      <th>other_benefits</th>\n",
       "      <th>total_benefits</th>\n",
       "      <th>total_compensation</th>\n",
       "    </tr>\n",
       "  </thead>\n",
       "  <tbody>\n",
       "    <tr>\n",
       "      <th>84964</th>\n",
       "      <td>2020</td>\n",
       "      <td>Public Protection</td>\n",
       "      <td>Fire Department</td>\n",
       "      <td>Fire Services</td>\n",
       "      <td>Firefighter</td>\n",
       "      <td>40771275</td>\n",
       "      <td>125632.88</td>\n",
       "      <td>2097.88</td>\n",
       "      <td>23601.43</td>\n",
       "      <td>151332.19</td>\n",
       "      <td>31172.62</td>\n",
       "      <td>18632.45</td>\n",
       "      <td>2520.63</td>\n",
       "      <td>52325.70</td>\n",
       "      <td>203657.89</td>\n",
       "    </tr>\n",
       "    <tr>\n",
       "      <th>144902</th>\n",
       "      <td>2021</td>\n",
       "      <td>Human Welfare &amp; Neighborhood Development</td>\n",
       "      <td>Homeless Services</td>\n",
       "      <td>Human Services</td>\n",
       "      <td>Program Support Analyst</td>\n",
       "      <td>47756538</td>\n",
       "      <td>108491.35</td>\n",
       "      <td>0.00</td>\n",
       "      <td>1650.00</td>\n",
       "      <td>110141.35</td>\n",
       "      <td>23616.03</td>\n",
       "      <td>16398.07</td>\n",
       "      <td>8819.39</td>\n",
       "      <td>48833.49</td>\n",
       "      <td>158974.84</td>\n",
       "    </tr>\n",
       "    <tr>\n",
       "      <th>70164</th>\n",
       "      <td>2019</td>\n",
       "      <td>Community Health</td>\n",
       "      <td>Public Health</td>\n",
       "      <td>Human Services</td>\n",
       "      <td>Sen Hospital Eligibility Wrkr</td>\n",
       "      <td>40789467</td>\n",
       "      <td>74359.27</td>\n",
       "      <td>360.19</td>\n",
       "      <td>2074.39</td>\n",
       "      <td>76793.85</td>\n",
       "      <td>15178.42</td>\n",
       "      <td>13499.06</td>\n",
       "      <td>6303.39</td>\n",
       "      <td>34980.87</td>\n",
       "      <td>111774.72</td>\n",
       "    </tr>\n",
       "  </tbody>\n",
       "</table>\n",
       "</div>"
      ],
      "text/plain": [
       "        year                        organization_group         department  \\\n",
       "84964   2020                         Public Protection    Fire Department   \n",
       "144902  2021  Human Welfare & Neighborhood Development  Homeless Services   \n",
       "70164   2019                          Community Health      Public Health   \n",
       "\n",
       "            job_family                            job employee_identifier  \\\n",
       "84964    Fire Services                    Firefighter            40771275   \n",
       "144902  Human Services        Program Support Analyst            47756538   \n",
       "70164   Human Services  Sen Hospital Eligibility Wrkr            40789467   \n",
       "\n",
       "         salaries  overtime  other_salaries  total_salary  retirement  \\\n",
       "84964   125632.88   2097.88        23601.43     151332.19    31172.62   \n",
       "144902  108491.35      0.00         1650.00     110141.35    23616.03   \n",
       "70164    74359.27    360.19         2074.39      76793.85    15178.42   \n",
       "\n",
       "        health_and_dental  other_benefits  total_benefits  total_compensation  \n",
       "84964            18632.45         2520.63        52325.70           203657.89  \n",
       "144902           16398.07         8819.39        48833.49           158974.84  \n",
       "70164            13499.06         6303.39        34980.87           111774.72  "
      ]
     },
     "execution_count": 17,
     "metadata": {},
     "output_type": "execute_result"
    }
   ],
   "source": [
    "df.sample(3)"
   ]
  },
  {
   "cell_type": "markdown",
   "metadata": {},
   "source": [
    "###  Negative and zero Numerical Value \n",
    "\n",
    "Assumption: the negative individual salary, bous is willing to make zero totl_salary and total_compensation.\n",
    "\n",
    "#### Insights\n",
    "Only 5 money columns have nagative value and it distributes in following columns:\n",
    "salaries(2), overtime(6),other_salaries(2),retirement(2), health_and_dental(1),\n",
    "I filtered origin DF to get a nagetive DF with a nagetive value exsit in any column, result in only 20 rows.\n",
    "with avg total_salary = 64921, avg total_benefits = 27701, avg total_compensation = 92622\n",
    "with max total_compensation range in (60 ,330061)\n",
    "After negative remove, we have 164191 rows. \n",
    "\n",
    "Next step is deal with zero value in 3 total_* columns. \n",
    "Then after zero value drop, we have 163922 rows.\n",
    "#### Actions:\n",
    "1. Drop records with any-nagative value, since it's only 20 examples and total_compensation's mean is 92622, which within the range.\n",
    "2. Drop off zero value recods in total_salary, total_benefits and total_compensation columns.\n",
    "3. Verify if dropped out all zero values in 3 total_* columns"
   ]
  },
  {
   "cell_type": "code",
   "execution_count": 18,
   "metadata": {},
   "outputs": [
    {
     "data": {
      "text/html": [
       "<div>\n",
       "<style scoped>\n",
       "    .dataframe tbody tr th:only-of-type {\n",
       "        vertical-align: middle;\n",
       "    }\n",
       "\n",
       "    .dataframe tbody tr th {\n",
       "        vertical-align: top;\n",
       "    }\n",
       "\n",
       "    .dataframe thead th {\n",
       "        text-align: right;\n",
       "    }\n",
       "</style>\n",
       "<table border=\"1\" class=\"dataframe\">\n",
       "  <thead>\n",
       "    <tr style=\"text-align: right;\">\n",
       "      <th></th>\n",
       "      <th>salaries</th>\n",
       "      <th>overtime</th>\n",
       "      <th>other_salaries</th>\n",
       "      <th>total_salary</th>\n",
       "      <th>retirement</th>\n",
       "      <th>health_and_dental</th>\n",
       "      <th>other_benefits</th>\n",
       "      <th>total_benefits</th>\n",
       "      <th>total_compensation</th>\n",
       "    </tr>\n",
       "  </thead>\n",
       "  <tbody>\n",
       "    <tr>\n",
       "      <th>count</th>\n",
       "      <td>164211.000000</td>\n",
       "      <td>164211.000000</td>\n",
       "      <td>164211.000000</td>\n",
       "      <td>164211.000000</td>\n",
       "      <td>164211.000000</td>\n",
       "      <td>164211.000000</td>\n",
       "      <td>164211.000000</td>\n",
       "      <td>164211.000000</td>\n",
       "      <td>164211.000000</td>\n",
       "    </tr>\n",
       "    <tr>\n",
       "      <th>mean</th>\n",
       "      <td>82214.169397</td>\n",
       "      <td>6870.114720</td>\n",
       "      <td>3786.529446</td>\n",
       "      <td>92870.813563</td>\n",
       "      <td>17176.275021</td>\n",
       "      <td>11904.259787</td>\n",
       "      <td>5884.183961</td>\n",
       "      <td>34964.718769</td>\n",
       "      <td>127835.532332</td>\n",
       "    </tr>\n",
       "    <tr>\n",
       "      <th>std</th>\n",
       "      <td>51695.131810</td>\n",
       "      <td>15776.957461</td>\n",
       "      <td>7671.780466</td>\n",
       "      <td>60198.902923</td>\n",
       "      <td>12213.801316</td>\n",
       "      <td>6660.669390</td>\n",
       "      <td>3702.506958</td>\n",
       "      <td>20448.876316</td>\n",
       "      <td>78969.842700</td>\n",
       "    </tr>\n",
       "    <tr>\n",
       "      <th>min</th>\n",
       "      <td>-322.600000</td>\n",
       "      <td>-22453.280000</td>\n",
       "      <td>-480.000000</td>\n",
       "      <td>0.000000</td>\n",
       "      <td>-37.890000</td>\n",
       "      <td>-745.720000</td>\n",
       "      <td>0.000000</td>\n",
       "      <td>0.000000</td>\n",
       "      <td>0.000000</td>\n",
       "    </tr>\n",
       "    <tr>\n",
       "      <th>25%</th>\n",
       "      <td>48254.960000</td>\n",
       "      <td>0.000000</td>\n",
       "      <td>0.000000</td>\n",
       "      <td>52795.700000</td>\n",
       "      <td>9044.255000</td>\n",
       "      <td>7792.165000</td>\n",
       "      <td>2565.980000</td>\n",
       "      <td>20827.525000</td>\n",
       "      <td>75211.470000</td>\n",
       "    </tr>\n",
       "    <tr>\n",
       "      <th>50%</th>\n",
       "      <td>80290.280000</td>\n",
       "      <td>48.660000</td>\n",
       "      <td>809.230000</td>\n",
       "      <td>89537.940000</td>\n",
       "      <td>16875.080000</td>\n",
       "      <td>14950.300000</td>\n",
       "      <td>6014.300000</td>\n",
       "      <td>38452.920000</td>\n",
       "      <td>128076.650000</td>\n",
       "    </tr>\n",
       "    <tr>\n",
       "      <th>75%</th>\n",
       "      <td>114694.010000</td>\n",
       "      <td>6309.665000</td>\n",
       "      <td>4408.670000</td>\n",
       "      <td>128978.530000</td>\n",
       "      <td>23939.330000</td>\n",
       "      <td>16271.940000</td>\n",
       "      <td>8765.125000</td>\n",
       "      <td>47932.480000</td>\n",
       "      <td>177456.260000</td>\n",
       "    </tr>\n",
       "    <tr>\n",
       "      <th>max</th>\n",
       "      <td>596615.860000</td>\n",
       "      <td>315896.410000</td>\n",
       "      <td>326959.390000</td>\n",
       "      <td>596615.860000</td>\n",
       "      <td>150142.960000</td>\n",
       "      <td>48687.290000</td>\n",
       "      <td>18779.490000</td>\n",
       "      <td>175232.200000</td>\n",
       "      <td>762684.040000</td>\n",
       "    </tr>\n",
       "  </tbody>\n",
       "</table>\n",
       "</div>"
      ],
      "text/plain": [
       "            salaries       overtime  other_salaries   total_salary  \\\n",
       "count  164211.000000  164211.000000   164211.000000  164211.000000   \n",
       "mean    82214.169397    6870.114720     3786.529446   92870.813563   \n",
       "std     51695.131810   15776.957461     7671.780466   60198.902923   \n",
       "min      -322.600000  -22453.280000     -480.000000       0.000000   \n",
       "25%     48254.960000       0.000000        0.000000   52795.700000   \n",
       "50%     80290.280000      48.660000      809.230000   89537.940000   \n",
       "75%    114694.010000    6309.665000     4408.670000  128978.530000   \n",
       "max    596615.860000  315896.410000   326959.390000  596615.860000   \n",
       "\n",
       "          retirement  health_and_dental  other_benefits  total_benefits  \\\n",
       "count  164211.000000      164211.000000   164211.000000   164211.000000   \n",
       "mean    17176.275021       11904.259787     5884.183961    34964.718769   \n",
       "std     12213.801316        6660.669390     3702.506958    20448.876316   \n",
       "min       -37.890000        -745.720000        0.000000        0.000000   \n",
       "25%      9044.255000        7792.165000     2565.980000    20827.525000   \n",
       "50%     16875.080000       14950.300000     6014.300000    38452.920000   \n",
       "75%     23939.330000       16271.940000     8765.125000    47932.480000   \n",
       "max    150142.960000       48687.290000    18779.490000   175232.200000   \n",
       "\n",
       "       total_compensation  \n",
       "count       164211.000000  \n",
       "mean        127835.532332  \n",
       "std          78969.842700  \n",
       "min              0.000000  \n",
       "25%          75211.470000  \n",
       "50%         128076.650000  \n",
       "75%         177456.260000  \n",
       "max         762684.040000  "
      ]
     },
     "execution_count": 18,
     "metadata": {},
     "output_type": "execute_result"
    }
   ],
   "source": [
    "money_df = df[['salaries', 'overtime', 'other_salaries', 'total_salary', 'retirement', 'health_and_dental', 'other_benefits', 'total_benefits', 'total_compensation']]\n",
    "money_df.describe()"
   ]
  },
  {
   "cell_type": "code",
   "execution_count": 19,
   "metadata": {},
   "outputs": [
    {
     "data": {
      "text/plain": [
       "2"
      ]
     },
     "execution_count": 19,
     "metadata": {},
     "output_type": "execute_result"
    }
   ],
   "source": [
    "# how many nagative values in each column\n",
    "len(money_df[money_df['salaries']<0])\n"
   ]
  },
  {
   "cell_type": "code",
   "execution_count": 20,
   "metadata": {},
   "outputs": [
    {
     "data": {
      "text/html": [
       "<div>\n",
       "<style scoped>\n",
       "    .dataframe tbody tr th:only-of-type {\n",
       "        vertical-align: middle;\n",
       "    }\n",
       "\n",
       "    .dataframe tbody tr th {\n",
       "        vertical-align: top;\n",
       "    }\n",
       "\n",
       "    .dataframe thead th {\n",
       "        text-align: right;\n",
       "    }\n",
       "</style>\n",
       "<table border=\"1\" class=\"dataframe\">\n",
       "  <thead>\n",
       "    <tr style=\"text-align: right;\">\n",
       "      <th></th>\n",
       "      <th>salaries</th>\n",
       "      <th>overtime</th>\n",
       "      <th>other_salaries</th>\n",
       "      <th>total_salary</th>\n",
       "      <th>retirement</th>\n",
       "      <th>health_and_dental</th>\n",
       "      <th>other_benefits</th>\n",
       "      <th>total_benefits</th>\n",
       "      <th>total_compensation</th>\n",
       "    </tr>\n",
       "  </thead>\n",
       "  <tbody>\n",
       "    <tr>\n",
       "      <th>29133</th>\n",
       "      <td>70009.70</td>\n",
       "      <td>0.00</td>\n",
       "      <td>-246.64</td>\n",
       "      <td>69763.06</td>\n",
       "      <td>13383.30</td>\n",
       "      <td>14543.01</td>\n",
       "      <td>5708.22</td>\n",
       "      <td>33634.53</td>\n",
       "      <td>103397.59</td>\n",
       "    </tr>\n",
       "    <tr>\n",
       "      <th>44308</th>\n",
       "      <td>-322.60</td>\n",
       "      <td>601.77</td>\n",
       "      <td>-15.30</td>\n",
       "      <td>263.87</td>\n",
       "      <td>82.68</td>\n",
       "      <td>0.00</td>\n",
       "      <td>4.47</td>\n",
       "      <td>87.15</td>\n",
       "      <td>351.02</td>\n",
       "    </tr>\n",
       "    <tr>\n",
       "      <th>66526</th>\n",
       "      <td>94863.80</td>\n",
       "      <td>0.00</td>\n",
       "      <td>-455.89</td>\n",
       "      <td>94407.91</td>\n",
       "      <td>18842.32</td>\n",
       "      <td>14946.71</td>\n",
       "      <td>7044.83</td>\n",
       "      <td>40833.86</td>\n",
       "      <td>135241.77</td>\n",
       "    </tr>\n",
       "    <tr>\n",
       "      <th>78679</th>\n",
       "      <td>15185.48</td>\n",
       "      <td>-14.91</td>\n",
       "      <td>349.53</td>\n",
       "      <td>15520.10</td>\n",
       "      <td>0.00</td>\n",
       "      <td>0.00</td>\n",
       "      <td>1204.61</td>\n",
       "      <td>1204.61</td>\n",
       "      <td>16724.71</td>\n",
       "    </tr>\n",
       "    <tr>\n",
       "      <th>79028</th>\n",
       "      <td>22883.66</td>\n",
       "      <td>-45.56</td>\n",
       "      <td>29.16</td>\n",
       "      <td>22867.26</td>\n",
       "      <td>5303.39</td>\n",
       "      <td>0.00</td>\n",
       "      <td>1774.87</td>\n",
       "      <td>7078.26</td>\n",
       "      <td>29945.52</td>\n",
       "    </tr>\n",
       "    <tr>\n",
       "      <th>86908</th>\n",
       "      <td>93545.46</td>\n",
       "      <td>0.00</td>\n",
       "      <td>-25.51</td>\n",
       "      <td>93519.95</td>\n",
       "      <td>35685.10</td>\n",
       "      <td>7636.51</td>\n",
       "      <td>559.43</td>\n",
       "      <td>43881.04</td>\n",
       "      <td>137400.99</td>\n",
       "    </tr>\n",
       "    <tr>\n",
       "      <th>89272</th>\n",
       "      <td>22966.87</td>\n",
       "      <td>0.00</td>\n",
       "      <td>-0.01</td>\n",
       "      <td>22966.86</td>\n",
       "      <td>0.00</td>\n",
       "      <td>0.00</td>\n",
       "      <td>1782.59</td>\n",
       "      <td>1782.59</td>\n",
       "      <td>24749.45</td>\n",
       "    </tr>\n",
       "    <tr>\n",
       "      <th>115725</th>\n",
       "      <td>7898.70</td>\n",
       "      <td>2913.89</td>\n",
       "      <td>-71.29</td>\n",
       "      <td>10741.30</td>\n",
       "      <td>1552.61</td>\n",
       "      <td>0.00</td>\n",
       "      <td>833.70</td>\n",
       "      <td>2386.31</td>\n",
       "      <td>13127.61</td>\n",
       "    </tr>\n",
       "    <tr>\n",
       "      <th>120912</th>\n",
       "      <td>59039.50</td>\n",
       "      <td>-218.33</td>\n",
       "      <td>606.46</td>\n",
       "      <td>59427.63</td>\n",
       "      <td>14801.87</td>\n",
       "      <td>15337.58</td>\n",
       "      <td>4639.13</td>\n",
       "      <td>34778.58</td>\n",
       "      <td>94206.21</td>\n",
       "    </tr>\n",
       "    <tr>\n",
       "      <th>128531</th>\n",
       "      <td>0.00</td>\n",
       "      <td>129.60</td>\n",
       "      <td>0.00</td>\n",
       "      <td>129.60</td>\n",
       "      <td>-6.22</td>\n",
       "      <td>0.00</td>\n",
       "      <td>9.92</td>\n",
       "      <td>3.70</td>\n",
       "      <td>133.30</td>\n",
       "    </tr>\n",
       "    <tr>\n",
       "      <th>136973</th>\n",
       "      <td>93686.53</td>\n",
       "      <td>6085.18</td>\n",
       "      <td>-105.58</td>\n",
       "      <td>99666.13</td>\n",
       "      <td>20102.75</td>\n",
       "      <td>17013.59</td>\n",
       "      <td>8398.74</td>\n",
       "      <td>45515.08</td>\n",
       "      <td>145181.21</td>\n",
       "    </tr>\n",
       "    <tr>\n",
       "      <th>143688</th>\n",
       "      <td>105573.40</td>\n",
       "      <td>16012.93</td>\n",
       "      <td>-73.00</td>\n",
       "      <td>121513.33</td>\n",
       "      <td>22678.82</td>\n",
       "      <td>18819.70</td>\n",
       "      <td>9672.12</td>\n",
       "      <td>51170.64</td>\n",
       "      <td>172683.97</td>\n",
       "    </tr>\n",
       "    <tr>\n",
       "      <th>143690</th>\n",
       "      <td>15020.19</td>\n",
       "      <td>4456.65</td>\n",
       "      <td>-60.23</td>\n",
       "      <td>19416.61</td>\n",
       "      <td>3424.48</td>\n",
       "      <td>2705.92</td>\n",
       "      <td>1551.18</td>\n",
       "      <td>7681.58</td>\n",
       "      <td>27098.19</td>\n",
       "    </tr>\n",
       "    <tr>\n",
       "      <th>143691</th>\n",
       "      <td>121236.65</td>\n",
       "      <td>9782.02</td>\n",
       "      <td>-103.43</td>\n",
       "      <td>130915.24</td>\n",
       "      <td>26038.01</td>\n",
       "      <td>18875.88</td>\n",
       "      <td>10537.41</td>\n",
       "      <td>55451.30</td>\n",
       "      <td>186366.54</td>\n",
       "    </tr>\n",
       "    <tr>\n",
       "      <th>148024</th>\n",
       "      <td>115943.15</td>\n",
       "      <td>0.00</td>\n",
       "      <td>-480.00</td>\n",
       "      <td>115463.15</td>\n",
       "      <td>24807.36</td>\n",
       "      <td>15979.29</td>\n",
       "      <td>8923.67</td>\n",
       "      <td>49710.32</td>\n",
       "      <td>165173.47</td>\n",
       "    </tr>\n",
       "    <tr>\n",
       "      <th>150143</th>\n",
       "      <td>83045.81</td>\n",
       "      <td>-1241.25</td>\n",
       "      <td>1760.00</td>\n",
       "      <td>83564.56</td>\n",
       "      <td>18227.04</td>\n",
       "      <td>16132.79</td>\n",
       "      <td>6667.18</td>\n",
       "      <td>41027.01</td>\n",
       "      <td>124591.57</td>\n",
       "    </tr>\n",
       "    <tr>\n",
       "      <th>151295</th>\n",
       "      <td>60325.54</td>\n",
       "      <td>4572.67</td>\n",
       "      <td>-19.77</td>\n",
       "      <td>64878.44</td>\n",
       "      <td>14999.31</td>\n",
       "      <td>16101.10</td>\n",
       "      <td>4890.67</td>\n",
       "      <td>35991.08</td>\n",
       "      <td>100869.52</td>\n",
       "    </tr>\n",
       "    <tr>\n",
       "      <th>155474</th>\n",
       "      <td>261616.56</td>\n",
       "      <td>-22453.28</td>\n",
       "      <td>250.00</td>\n",
       "      <td>239413.28</td>\n",
       "      <td>55310.13</td>\n",
       "      <td>22237.22</td>\n",
       "      <td>13100.59</td>\n",
       "      <td>90647.94</td>\n",
       "      <td>330061.22</td>\n",
       "    </tr>\n",
       "    <tr>\n",
       "      <th>161401</th>\n",
       "      <td>33094.13</td>\n",
       "      <td>-0.01</td>\n",
       "      <td>831.60</td>\n",
       "      <td>33925.72</td>\n",
       "      <td>667.76</td>\n",
       "      <td>7888.14</td>\n",
       "      <td>2601.69</td>\n",
       "      <td>11157.59</td>\n",
       "      <td>45083.31</td>\n",
       "    </tr>\n",
       "    <tr>\n",
       "      <th>163450</th>\n",
       "      <td>-75.08</td>\n",
       "      <td>131.38</td>\n",
       "      <td>0.00</td>\n",
       "      <td>56.30</td>\n",
       "      <td>0.00</td>\n",
       "      <td>0.00</td>\n",
       "      <td>4.37</td>\n",
       "      <td>4.37</td>\n",
       "      <td>60.67</td>\n",
       "    </tr>\n",
       "  </tbody>\n",
       "</table>\n",
       "</div>"
      ],
      "text/plain": [
       "         salaries  overtime  other_salaries  total_salary  retirement  \\\n",
       "29133    70009.70      0.00         -246.64      69763.06    13383.30   \n",
       "44308     -322.60    601.77          -15.30        263.87       82.68   \n",
       "66526    94863.80      0.00         -455.89      94407.91    18842.32   \n",
       "78679    15185.48    -14.91          349.53      15520.10        0.00   \n",
       "79028    22883.66    -45.56           29.16      22867.26     5303.39   \n",
       "86908    93545.46      0.00          -25.51      93519.95    35685.10   \n",
       "89272    22966.87      0.00           -0.01      22966.86        0.00   \n",
       "115725    7898.70   2913.89          -71.29      10741.30     1552.61   \n",
       "120912   59039.50   -218.33          606.46      59427.63    14801.87   \n",
       "128531       0.00    129.60            0.00        129.60       -6.22   \n",
       "136973   93686.53   6085.18         -105.58      99666.13    20102.75   \n",
       "143688  105573.40  16012.93          -73.00     121513.33    22678.82   \n",
       "143690   15020.19   4456.65          -60.23      19416.61     3424.48   \n",
       "143691  121236.65   9782.02         -103.43     130915.24    26038.01   \n",
       "148024  115943.15      0.00         -480.00     115463.15    24807.36   \n",
       "150143   83045.81  -1241.25         1760.00      83564.56    18227.04   \n",
       "151295   60325.54   4572.67          -19.77      64878.44    14999.31   \n",
       "155474  261616.56 -22453.28          250.00     239413.28    55310.13   \n",
       "161401   33094.13     -0.01          831.60      33925.72      667.76   \n",
       "163450     -75.08    131.38            0.00         56.30        0.00   \n",
       "\n",
       "        health_and_dental  other_benefits  total_benefits  total_compensation  \n",
       "29133            14543.01         5708.22        33634.53           103397.59  \n",
       "44308                0.00            4.47           87.15              351.02  \n",
       "66526            14946.71         7044.83        40833.86           135241.77  \n",
       "78679                0.00         1204.61         1204.61            16724.71  \n",
       "79028                0.00         1774.87         7078.26            29945.52  \n",
       "86908             7636.51          559.43        43881.04           137400.99  \n",
       "89272                0.00         1782.59         1782.59            24749.45  \n",
       "115725               0.00          833.70         2386.31            13127.61  \n",
       "120912           15337.58         4639.13        34778.58            94206.21  \n",
       "128531               0.00            9.92            3.70              133.30  \n",
       "136973           17013.59         8398.74        45515.08           145181.21  \n",
       "143688           18819.70         9672.12        51170.64           172683.97  \n",
       "143690            2705.92         1551.18         7681.58            27098.19  \n",
       "143691           18875.88        10537.41        55451.30           186366.54  \n",
       "148024           15979.29         8923.67        49710.32           165173.47  \n",
       "150143           16132.79         6667.18        41027.01           124591.57  \n",
       "151295           16101.10         4890.67        35991.08           100869.52  \n",
       "155474           22237.22        13100.59        90647.94           330061.22  \n",
       "161401            7888.14         2601.69        11157.59            45083.31  \n",
       "163450               0.00            4.37            4.37               60.67  "
      ]
     },
     "execution_count": 20,
     "metadata": {},
     "output_type": "execute_result"
    }
   ],
   "source": [
    "# filter all negative value\n",
    "negative_money_df = money_df[(money_df['salaries']<0)|(money_df['overtime']<0)|(\n",
    "    money_df['other_salaries']<0|(money_df['retirement']<0)|\n",
    "    (money_df['health_and_dental']<0))]\n",
    "\n",
    "negative_money_df.shape #(20, 9)\n",
    "\n",
    "negative_money_df"
   ]
  },
  {
   "cell_type": "code",
   "execution_count": 21,
   "metadata": {},
   "outputs": [
    {
     "data": {
      "text/html": [
       "<div>\n",
       "<style scoped>\n",
       "    .dataframe tbody tr th:only-of-type {\n",
       "        vertical-align: middle;\n",
       "    }\n",
       "\n",
       "    .dataframe tbody tr th {\n",
       "        vertical-align: top;\n",
       "    }\n",
       "\n",
       "    .dataframe thead th {\n",
       "        text-align: right;\n",
       "    }\n",
       "</style>\n",
       "<table border=\"1\" class=\"dataframe\">\n",
       "  <thead>\n",
       "    <tr style=\"text-align: right;\">\n",
       "      <th></th>\n",
       "      <th>salaries</th>\n",
       "      <th>overtime</th>\n",
       "      <th>other_salaries</th>\n",
       "      <th>total_salary</th>\n",
       "      <th>retirement</th>\n",
       "      <th>health_and_dental</th>\n",
       "      <th>other_benefits</th>\n",
       "      <th>total_benefits</th>\n",
       "      <th>total_compensation</th>\n",
       "    </tr>\n",
       "  </thead>\n",
       "  <tbody>\n",
       "    <tr>\n",
       "      <th>count</th>\n",
       "      <td>20.000000</td>\n",
       "      <td>20.00000</td>\n",
       "      <td>20.000000</td>\n",
       "      <td>20.0000</td>\n",
       "      <td>20.000000</td>\n",
       "      <td>20.000000</td>\n",
       "      <td>20.000000</td>\n",
       "      <td>20.000000</td>\n",
       "      <td>20.000000</td>\n",
       "    </tr>\n",
       "    <tr>\n",
       "      <th>mean</th>\n",
       "      <td>63776.872500</td>\n",
       "      <td>1035.63750</td>\n",
       "      <td>108.505000</td>\n",
       "      <td>64921.0150</td>\n",
       "      <td>13795.035500</td>\n",
       "      <td>9410.872000</td>\n",
       "      <td>4495.469500</td>\n",
       "      <td>27701.377000</td>\n",
       "      <td>92622.392000</td>\n",
       "    </tr>\n",
       "    <tr>\n",
       "      <th>std</th>\n",
       "      <td>62616.308341</td>\n",
       "      <td>6970.15739</td>\n",
       "      <td>494.348781</td>\n",
       "      <td>59990.1820</td>\n",
       "      <td>14674.666736</td>\n",
       "      <td>8258.971644</td>\n",
       "      <td>4054.010544</td>\n",
       "      <td>25404.131707</td>\n",
       "      <td>85049.706498</td>\n",
       "    </tr>\n",
       "    <tr>\n",
       "      <th>min</th>\n",
       "      <td>-322.600000</td>\n",
       "      <td>-22453.28000</td>\n",
       "      <td>-480.000000</td>\n",
       "      <td>56.3000</td>\n",
       "      <td>-6.220000</td>\n",
       "      <td>0.000000</td>\n",
       "      <td>4.370000</td>\n",
       "      <td>3.700000</td>\n",
       "      <td>60.670000</td>\n",
       "    </tr>\n",
       "    <tr>\n",
       "      <th>25%</th>\n",
       "      <td>15144.157500</td>\n",
       "      <td>-3.73500</td>\n",
       "      <td>-80.607500</td>\n",
       "      <td>18442.4825</td>\n",
       "      <td>521.490000</td>\n",
       "      <td>0.000000</td>\n",
       "      <td>1111.882500</td>\n",
       "      <td>2235.380000</td>\n",
       "      <td>22743.265000</td>\n",
       "    </tr>\n",
       "    <tr>\n",
       "      <th>50%</th>\n",
       "      <td>59682.520000</td>\n",
       "      <td>0.00000</td>\n",
       "      <td>-17.535000</td>\n",
       "      <td>62153.0350</td>\n",
       "      <td>14092.585000</td>\n",
       "      <td>11215.575000</td>\n",
       "      <td>3620.410000</td>\n",
       "      <td>34206.555000</td>\n",
       "      <td>97537.865000</td>\n",
       "    </tr>\n",
       "    <tr>\n",
       "      <th>75%</th>\n",
       "      <td>93980.847500</td>\n",
       "      <td>3299.58000</td>\n",
       "      <td>84.370000</td>\n",
       "      <td>95722.4650</td>\n",
       "      <td>20746.767500</td>\n",
       "      <td>16109.022500</td>\n",
       "      <td>7383.307500</td>\n",
       "      <td>44289.550000</td>\n",
       "      <td>139346.045000</td>\n",
       "    </tr>\n",
       "    <tr>\n",
       "      <th>max</th>\n",
       "      <td>261616.560000</td>\n",
       "      <td>16012.93000</td>\n",
       "      <td>1760.000000</td>\n",
       "      <td>239413.2800</td>\n",
       "      <td>55310.130000</td>\n",
       "      <td>22237.220000</td>\n",
       "      <td>13100.590000</td>\n",
       "      <td>90647.940000</td>\n",
       "      <td>330061.220000</td>\n",
       "    </tr>\n",
       "  </tbody>\n",
       "</table>\n",
       "</div>"
      ],
      "text/plain": [
       "            salaries     overtime  other_salaries  total_salary    retirement  \\\n",
       "count      20.000000     20.00000       20.000000       20.0000     20.000000   \n",
       "mean    63776.872500   1035.63750      108.505000    64921.0150  13795.035500   \n",
       "std     62616.308341   6970.15739      494.348781    59990.1820  14674.666736   \n",
       "min      -322.600000 -22453.28000     -480.000000       56.3000     -6.220000   \n",
       "25%     15144.157500     -3.73500      -80.607500    18442.4825    521.490000   \n",
       "50%     59682.520000      0.00000      -17.535000    62153.0350  14092.585000   \n",
       "75%     93980.847500   3299.58000       84.370000    95722.4650  20746.767500   \n",
       "max    261616.560000  16012.93000     1760.000000   239413.2800  55310.130000   \n",
       "\n",
       "       health_and_dental  other_benefits  total_benefits  total_compensation  \n",
       "count          20.000000       20.000000       20.000000           20.000000  \n",
       "mean         9410.872000     4495.469500    27701.377000        92622.392000  \n",
       "std          8258.971644     4054.010544    25404.131707        85049.706498  \n",
       "min             0.000000        4.370000        3.700000           60.670000  \n",
       "25%             0.000000     1111.882500     2235.380000        22743.265000  \n",
       "50%         11215.575000     3620.410000    34206.555000        97537.865000  \n",
       "75%         16109.022500     7383.307500    44289.550000       139346.045000  \n",
       "max         22237.220000    13100.590000    90647.940000       330061.220000  "
      ]
     },
     "execution_count": 21,
     "metadata": {},
     "output_type": "execute_result"
    }
   ],
   "source": [
    "negative_money_df.describe()"
   ]
  },
  {
   "cell_type": "markdown",
   "metadata": {},
   "source": [
    "#### Action\n",
    "drop out all nagetive and zero records in $ columns"
   ]
  },
  {
   "cell_type": "code",
   "execution_count": 23,
   "metadata": {},
   "outputs": [
    {
     "data": {
      "text/plain": [
       "(164191, 15)"
      ]
     },
     "execution_count": 23,
     "metadata": {},
     "output_type": "execute_result"
    }
   ],
   "source": [
    "df = df[~df.index.isin(negative_money_df.index)]\n",
    "\n",
    "df.shape\n",
    "# (164191, 15)"
   ]
  },
  {
   "cell_type": "code",
   "execution_count": 28,
   "metadata": {},
   "outputs": [
    {
     "data": {
      "text/plain": [
       "(163922, 15)"
      ]
     },
     "execution_count": 28,
     "metadata": {},
     "output_type": "execute_result"
    }
   ],
   "source": [
    "# zero value investigation\n",
    "df = df[(df['total_salary']>0)&(df['total_benefits']>0)&(df['total_compensation']>0)]\n",
    "df.shape \n",
    "# (163922, 15) after remove 0 values"
   ]
  },
  {
   "cell_type": "markdown",
   "metadata": {},
   "source": [
    "#### Verify"
   ]
  },
  {
   "cell_type": "code",
   "execution_count": 34,
   "metadata": {},
   "outputs": [
    {
     "data": {
      "text/plain": [
       "True"
      ]
     },
     "execution_count": 34,
     "metadata": {},
     "output_type": "execute_result"
    }
   ],
   "source": [
    "# verify if dropped out all zero values in 3 total_* columns\n",
    "all((df['total_salary']!=0)&(df['total_benefits']!=0)&(df['total_compensation']!=0))\n",
    "# True"
   ]
  },
  {
   "cell_type": "markdown",
   "metadata": {},
   "source": [
    "### Numerical variables Perfect multicollinearity investigation\n",
    "\n",
    "#### Assumption:\n",
    "in the row-level, there might be a equation that:\n",
    "* salaries + overtime + other_salaries = total_salary\n",
    "* retirement + health_and_dental + other_benefits = total_benefits\t\n",
    " \n",
    "* total_salary + total_benefits = total_compensation\n",
    "\n",
    "#### Steps:\n",
    "1. create a new DF, add new columns from addtion calculation\n",
    "2. verify if the calculation is close to ground turth data\n",
    "3. discover other correlations\n",
    "\n",
    "#### Insights\n",
    "* Our assumptions all are True:\n",
    "    * ALL total salary addtion assumption is True\n",
    "    * ALL total benefits addtion assumption is True\n",
    "    * ALL total compensation addtion assumption is True\n",
    "* There is no strong correlation between year and money columns. Strong positive correlations exist in total_level features since we keep the collinearity here: *total_salary+total_benefits = total_compensaton*\n",
    "\n",
    "#### Actions\n",
    "we are able to drop off all duplicate information (6 columns) and keep total_* level columns and saved into a new dataframe named high_level_df\n",
    "\n"
   ]
  },
  {
   "cell_type": "code",
   "execution_count": 43,
   "metadata": {},
   "outputs": [
    {
     "data": {
      "text/html": [
       "<div>\n",
       "<style scoped>\n",
       "    .dataframe tbody tr th:only-of-type {\n",
       "        vertical-align: middle;\n",
       "    }\n",
       "\n",
       "    .dataframe tbody tr th {\n",
       "        vertical-align: top;\n",
       "    }\n",
       "\n",
       "    .dataframe thead th {\n",
       "        text-align: right;\n",
       "    }\n",
       "</style>\n",
       "<table border=\"1\" class=\"dataframe\">\n",
       "  <thead>\n",
       "    <tr style=\"text-align: right;\">\n",
       "      <th></th>\n",
       "      <th>year</th>\n",
       "      <th>organization_group</th>\n",
       "      <th>department</th>\n",
       "      <th>job_family</th>\n",
       "      <th>job</th>\n",
       "      <th>employee_identifier</th>\n",
       "      <th>salaries</th>\n",
       "      <th>overtime</th>\n",
       "      <th>other_salaries</th>\n",
       "      <th>total_salary</th>\n",
       "      <th>retirement</th>\n",
       "      <th>health_and_dental</th>\n",
       "      <th>other_benefits</th>\n",
       "      <th>total_benefits</th>\n",
       "      <th>total_compensation</th>\n",
       "    </tr>\n",
       "  </thead>\n",
       "  <tbody>\n",
       "    <tr>\n",
       "      <th>0</th>\n",
       "      <td>2018</td>\n",
       "      <td>Public Protection</td>\n",
       "      <td>Adult Probation</td>\n",
       "      <td>Information Systems</td>\n",
       "      <td>IS Trainer-Journey</td>\n",
       "      <td>38405932</td>\n",
       "      <td>81096.04</td>\n",
       "      <td>0.0</td>\n",
       "      <td>0.0</td>\n",
       "      <td>81096.04</td>\n",
       "      <td>15556.78</td>\n",
       "      <td>14433.94</td>\n",
       "      <td>6076.79</td>\n",
       "      <td>36067.51</td>\n",
       "      <td>117163.55</td>\n",
       "    </tr>\n",
       "    <tr>\n",
       "      <th>1</th>\n",
       "      <td>2018</td>\n",
       "      <td>Public Protection</td>\n",
       "      <td>Adult Probation</td>\n",
       "      <td>Information Systems</td>\n",
       "      <td>IS Engineer-Assistant</td>\n",
       "      <td>37915952</td>\n",
       "      <td>115053.11</td>\n",
       "      <td>0.0</td>\n",
       "      <td>0.0</td>\n",
       "      <td>115053.11</td>\n",
       "      <td>22071.21</td>\n",
       "      <td>14433.94</td>\n",
       "      <td>9059.88</td>\n",
       "      <td>45565.03</td>\n",
       "      <td>160618.14</td>\n",
       "    </tr>\n",
       "    <tr>\n",
       "      <th>2</th>\n",
       "      <td>2018</td>\n",
       "      <td>Public Protection</td>\n",
       "      <td>Adult Probation</td>\n",
       "      <td>Information Systems</td>\n",
       "      <td>IS Business Analyst-Senior</td>\n",
       "      <td>37905927</td>\n",
       "      <td>107355.32</td>\n",
       "      <td>0.0</td>\n",
       "      <td>0.0</td>\n",
       "      <td>107355.32</td>\n",
       "      <td>20594.40</td>\n",
       "      <td>14433.94</td>\n",
       "      <td>8171.53</td>\n",
       "      <td>43199.87</td>\n",
       "      <td>150555.19</td>\n",
       "    </tr>\n",
       "    <tr>\n",
       "      <th>3</th>\n",
       "      <td>2018</td>\n",
       "      <td>Public Protection</td>\n",
       "      <td>Adult Probation</td>\n",
       "      <td>Information Systems</td>\n",
       "      <td>IS Business Analyst-Principal</td>\n",
       "      <td>37477463</td>\n",
       "      <td>154758.00</td>\n",
       "      <td>0.0</td>\n",
       "      <td>0.0</td>\n",
       "      <td>154758.00</td>\n",
       "      <td>28939.26</td>\n",
       "      <td>14433.94</td>\n",
       "      <td>10980.30</td>\n",
       "      <td>54353.50</td>\n",
       "      <td>209111.50</td>\n",
       "    </tr>\n",
       "  </tbody>\n",
       "</table>\n",
       "</div>"
      ],
      "text/plain": [
       "   year organization_group       department           job_family  \\\n",
       "0  2018  Public Protection  Adult Probation  Information Systems   \n",
       "1  2018  Public Protection  Adult Probation  Information Systems   \n",
       "2  2018  Public Protection  Adult Probation  Information Systems   \n",
       "3  2018  Public Protection  Adult Probation  Information Systems   \n",
       "\n",
       "                             job employee_identifier   salaries  overtime  \\\n",
       "0             IS Trainer-Journey            38405932   81096.04       0.0   \n",
       "1          IS Engineer-Assistant            37915952  115053.11       0.0   \n",
       "2     IS Business Analyst-Senior            37905927  107355.32       0.0   \n",
       "3  IS Business Analyst-Principal            37477463  154758.00       0.0   \n",
       "\n",
       "   other_salaries  total_salary  retirement  health_and_dental  \\\n",
       "0             0.0      81096.04    15556.78           14433.94   \n",
       "1             0.0     115053.11    22071.21           14433.94   \n",
       "2             0.0     107355.32    20594.40           14433.94   \n",
       "3             0.0     154758.00    28939.26           14433.94   \n",
       "\n",
       "   other_benefits  total_benefits  total_compensation  \n",
       "0         6076.79        36067.51           117163.55  \n",
       "1         9059.88        45565.03           160618.14  \n",
       "2         8171.53        43199.87           150555.19  \n",
       "3        10980.30        54353.50           209111.50  "
      ]
     },
     "execution_count": 43,
     "metadata": {},
     "output_type": "execute_result"
    }
   ],
   "source": [
    "df.head(4)"
   ]
  },
  {
   "cell_type": "code",
   "execution_count": 47,
   "metadata": {},
   "outputs": [
    {
     "data": {
      "text/plain": [
       "(163922, 15)"
      ]
     },
     "execution_count": 47,
     "metadata": {},
     "output_type": "execute_result"
    }
   ],
   "source": [
    "additon_df = df.copy()\n",
    "additon_df.shape"
   ]
  },
  {
   "cell_type": "code",
   "execution_count": 56,
   "metadata": {},
   "outputs": [
    {
     "data": {
      "text/plain": [
       "(163922, 18)"
      ]
     },
     "execution_count": 56,
     "metadata": {},
     "output_type": "execute_result"
    }
   ],
   "source": [
    "additon_df['verify_salary'] = additon_df['salaries']+additon_df['overtime']+additon_df['other_salaries']\n",
    "additon_df['verify_benefits'] = additon_df['retirement']+additon_df['health_and_dental']+additon_df['other_benefits']\n",
    "additon_df['verify_total_S&B'] = additon_df['total_salary']+additon_df['total_benefits']\n",
    "additon_df.shape"
   ]
  },
  {
   "cell_type": "code",
   "execution_count": 57,
   "metadata": {},
   "outputs": [
    {
     "data": {
      "text/html": [
       "<div>\n",
       "<style scoped>\n",
       "    .dataframe tbody tr th:only-of-type {\n",
       "        vertical-align: middle;\n",
       "    }\n",
       "\n",
       "    .dataframe tbody tr th {\n",
       "        vertical-align: top;\n",
       "    }\n",
       "\n",
       "    .dataframe thead th {\n",
       "        text-align: right;\n",
       "    }\n",
       "</style>\n",
       "<table border=\"1\" class=\"dataframe\">\n",
       "  <thead>\n",
       "    <tr style=\"text-align: right;\">\n",
       "      <th></th>\n",
       "      <th>year</th>\n",
       "      <th>organization_group</th>\n",
       "      <th>department</th>\n",
       "      <th>job_family</th>\n",
       "      <th>job</th>\n",
       "      <th>employee_identifier</th>\n",
       "      <th>salaries</th>\n",
       "      <th>overtime</th>\n",
       "      <th>other_salaries</th>\n",
       "      <th>total_salary</th>\n",
       "      <th>retirement</th>\n",
       "      <th>health_and_dental</th>\n",
       "      <th>other_benefits</th>\n",
       "      <th>total_benefits</th>\n",
       "      <th>total_compensation</th>\n",
       "      <th>verify_total_S&amp;B</th>\n",
       "      <th>verify_salary</th>\n",
       "      <th>verify_benefits</th>\n",
       "    </tr>\n",
       "  </thead>\n",
       "  <tbody>\n",
       "    <tr>\n",
       "      <th>0</th>\n",
       "      <td>2018</td>\n",
       "      <td>Public Protection</td>\n",
       "      <td>Adult Probation</td>\n",
       "      <td>Information Systems</td>\n",
       "      <td>IS Trainer-Journey</td>\n",
       "      <td>38405932</td>\n",
       "      <td>81096.04</td>\n",
       "      <td>0.0</td>\n",
       "      <td>0.0</td>\n",
       "      <td>81096.04</td>\n",
       "      <td>15556.78</td>\n",
       "      <td>14433.94</td>\n",
       "      <td>6076.79</td>\n",
       "      <td>36067.51</td>\n",
       "      <td>117163.55</td>\n",
       "      <td>117163.55</td>\n",
       "      <td>81096.04</td>\n",
       "      <td>36067.51</td>\n",
       "    </tr>\n",
       "    <tr>\n",
       "      <th>1</th>\n",
       "      <td>2018</td>\n",
       "      <td>Public Protection</td>\n",
       "      <td>Adult Probation</td>\n",
       "      <td>Information Systems</td>\n",
       "      <td>IS Engineer-Assistant</td>\n",
       "      <td>37915952</td>\n",
       "      <td>115053.11</td>\n",
       "      <td>0.0</td>\n",
       "      <td>0.0</td>\n",
       "      <td>115053.11</td>\n",
       "      <td>22071.21</td>\n",
       "      <td>14433.94</td>\n",
       "      <td>9059.88</td>\n",
       "      <td>45565.03</td>\n",
       "      <td>160618.14</td>\n",
       "      <td>160618.14</td>\n",
       "      <td>115053.11</td>\n",
       "      <td>45565.03</td>\n",
       "    </tr>\n",
       "    <tr>\n",
       "      <th>2</th>\n",
       "      <td>2018</td>\n",
       "      <td>Public Protection</td>\n",
       "      <td>Adult Probation</td>\n",
       "      <td>Information Systems</td>\n",
       "      <td>IS Business Analyst-Senior</td>\n",
       "      <td>37905927</td>\n",
       "      <td>107355.32</td>\n",
       "      <td>0.0</td>\n",
       "      <td>0.0</td>\n",
       "      <td>107355.32</td>\n",
       "      <td>20594.40</td>\n",
       "      <td>14433.94</td>\n",
       "      <td>8171.53</td>\n",
       "      <td>43199.87</td>\n",
       "      <td>150555.19</td>\n",
       "      <td>150555.19</td>\n",
       "      <td>107355.32</td>\n",
       "      <td>43199.87</td>\n",
       "    </tr>\n",
       "  </tbody>\n",
       "</table>\n",
       "</div>"
      ],
      "text/plain": [
       "   year organization_group       department           job_family  \\\n",
       "0  2018  Public Protection  Adult Probation  Information Systems   \n",
       "1  2018  Public Protection  Adult Probation  Information Systems   \n",
       "2  2018  Public Protection  Adult Probation  Information Systems   \n",
       "\n",
       "                          job employee_identifier   salaries  overtime  \\\n",
       "0          IS Trainer-Journey            38405932   81096.04       0.0   \n",
       "1       IS Engineer-Assistant            37915952  115053.11       0.0   \n",
       "2  IS Business Analyst-Senior            37905927  107355.32       0.0   \n",
       "\n",
       "   other_salaries  total_salary  retirement  health_and_dental  \\\n",
       "0             0.0      81096.04    15556.78           14433.94   \n",
       "1             0.0     115053.11    22071.21           14433.94   \n",
       "2             0.0     107355.32    20594.40           14433.94   \n",
       "\n",
       "   other_benefits  total_benefits  total_compensation  verify_total_S&B  \\\n",
       "0         6076.79        36067.51           117163.55         117163.55   \n",
       "1         9059.88        45565.03           160618.14         160618.14   \n",
       "2         8171.53        43199.87           150555.19         150555.19   \n",
       "\n",
       "   verify_salary  verify_benefits  \n",
       "0       81096.04         36067.51  \n",
       "1      115053.11         45565.03  \n",
       "2      107355.32         43199.87  "
      ]
     },
     "execution_count": 57,
     "metadata": {},
     "output_type": "execute_result"
    }
   ],
   "source": [
    "additon_df.head(3)"
   ]
  },
  {
   "cell_type": "code",
   "execution_count": 58,
   "metadata": {},
   "outputs": [
    {
     "name": "stdout",
     "output_type": "stream",
     "text": [
      "ALL total salary addtion assumption is True\n",
      "ALL total benefits addtion assumption is True\n",
      "ALL total compensation addtion assumption is True\n"
     ]
    }
   ],
   "source": [
    "# verify 3 totl_* level comlumns\n",
    "print('ALL total salary addtion assumption is', all(np.isclose(additon_df['verify_salary'], additon_df['total_salary'])))\n",
    "print('ALL total benefits addtion assumption is', all(np.isclose(additon_df['verify_benefits'], additon_df['total_benefits'])))\n",
    "print('ALL total compensation addtion assumption is', all(np.isclose(additon_df['verify_total_S&B'], additon_df['total_compensation'])))\n"
   ]
  },
  {
   "cell_type": "markdown",
   "metadata": {},
   "source": [
    "#### Action:"
   ]
  },
  {
   "cell_type": "code",
   "execution_count": 59,
   "metadata": {},
   "outputs": [
    {
     "data": {
      "text/plain": [
       "(163922, 15)"
      ]
     },
     "execution_count": 59,
     "metadata": {},
     "output_type": "execute_result"
    }
   ],
   "source": [
    "df.shape"
   ]
  },
  {
   "cell_type": "code",
   "execution_count": 60,
   "metadata": {},
   "outputs": [
    {
     "data": {
      "text/plain": [
       "(163922, 9)"
      ]
     },
     "execution_count": 60,
     "metadata": {},
     "output_type": "execute_result"
    }
   ],
   "source": [
    "high_level_df = df.drop(['salaries', 'overtime', 'other_salaries',\n",
    "    'retirement','health_and_dental', 'other_benefits'], axis =1)\n",
    "high_level_df.shape"
   ]
  },
  {
   "cell_type": "markdown",
   "metadata": {},
   "source": [
    "#### correlation in high_level_df"
   ]
  },
  {
   "cell_type": "code",
   "execution_count": 61,
   "metadata": {},
   "outputs": [
    {
     "data": {
      "text/html": [
       "<div>\n",
       "<style scoped>\n",
       "    .dataframe tbody tr th:only-of-type {\n",
       "        vertical-align: middle;\n",
       "    }\n",
       "\n",
       "    .dataframe tbody tr th {\n",
       "        vertical-align: top;\n",
       "    }\n",
       "\n",
       "    .dataframe thead th {\n",
       "        text-align: right;\n",
       "    }\n",
       "</style>\n",
       "<table border=\"1\" class=\"dataframe\">\n",
       "  <thead>\n",
       "    <tr style=\"text-align: right;\">\n",
       "      <th></th>\n",
       "      <th>year</th>\n",
       "      <th>total_salary</th>\n",
       "      <th>total_benefits</th>\n",
       "      <th>total_compensation</th>\n",
       "    </tr>\n",
       "  </thead>\n",
       "  <tbody>\n",
       "    <tr>\n",
       "      <th>year</th>\n",
       "      <td>1.000000</td>\n",
       "      <td>0.107557</td>\n",
       "      <td>0.160397</td>\n",
       "      <td>0.123533</td>\n",
       "    </tr>\n",
       "    <tr>\n",
       "      <th>total_salary</th>\n",
       "      <td>0.107557</td>\n",
       "      <td>1.000000</td>\n",
       "      <td>0.890893</td>\n",
       "      <td>0.993059</td>\n",
       "    </tr>\n",
       "    <tr>\n",
       "      <th>total_benefits</th>\n",
       "      <td>0.160397</td>\n",
       "      <td>0.890893</td>\n",
       "      <td>1.000000</td>\n",
       "      <td>0.938134</td>\n",
       "    </tr>\n",
       "    <tr>\n",
       "      <th>total_compensation</th>\n",
       "      <td>0.123533</td>\n",
       "      <td>0.993059</td>\n",
       "      <td>0.938134</td>\n",
       "      <td>1.000000</td>\n",
       "    </tr>\n",
       "  </tbody>\n",
       "</table>\n",
       "</div>"
      ],
      "text/plain": [
       "                        year  total_salary  total_benefits  total_compensation\n",
       "year                1.000000      0.107557        0.160397            0.123533\n",
       "total_salary        0.107557      1.000000        0.890893            0.993059\n",
       "total_benefits      0.160397      0.890893        1.000000            0.938134\n",
       "total_compensation  0.123533      0.993059        0.938134            1.000000"
      ]
     },
     "execution_count": 61,
     "metadata": {},
     "output_type": "execute_result"
    }
   ],
   "source": [
    "# corr\n",
    "corrMatrix = high_level_df.corr()\n",
    "corrMatrix"
   ]
  },
  {
   "cell_type": "code",
   "execution_count": 62,
   "metadata": {},
   "outputs": [
    {
     "data": {
      "text/plain": [
       "<AxesSubplot:>"
      ]
     },
     "execution_count": 62,
     "metadata": {},
     "output_type": "execute_result"
    },
    {
     "data": {
      "image/png": "[encoded data removed]",
      "text/plain": [
       "<Figure size 432x288 with 2 Axes>"
      ]
     },
     "metadata": {
      "needs_background": "light"
     },
     "output_type": "display_data"
    }
   ],
   "source": [
    "sns.heatmap(corrMatrix, annot = True, cmap= 'coolwarm')"
   ]
  },
  {
   "cell_type": "markdown",
   "metadata": {},
   "source": [
    "### outliers investigation"
   ]
  },
  {
   "cell_type": "code",
   "execution_count": 189,
   "metadata": {},
   "outputs": [
    {
     "data": {
      "text/plain": [
       "(163004, 18)"
      ]
     },
     "execution_count": 189,
     "metadata": {},
     "output_type": "execute_result"
    }
   ],
   "source": [
    "outlier_df = df.copy()\n",
    "outlier_df.shape"
   ]
  },
  {
   "cell_type": "markdown",
   "metadata": {},
   "source": [
    "#### the 3 total $ distribution before remove outliers"
   ]
  },
  {
   "cell_type": "code",
   "execution_count": 186,
   "metadata": {},
   "outputs": [
    {
     "data": {
      "image/png": "[encoded data removed]",
      "text/plain": [
       "<Figure size 360x360 with 1 Axes>"
      ]
     },
     "metadata": {
      "needs_background": "light"
     },
     "output_type": "display_data"
    },
    {
     "data": {
      "image/png": "[encoded data removed]",
      "text/plain": [
       "<Figure size 360x360 with 1 Axes>"
      ]
     },
     "metadata": {
      "needs_background": "light"
     },
     "output_type": "display_data"
    },
    {
     "data": {
      "image/png": "[encoded data removed]",
      "text/plain": [
       "<Figure size 360x360 with 1 Axes>"
      ]
     },
     "metadata": {
      "needs_background": "light"
     },
     "output_type": "display_data"
    }
   ],
   "source": [
    "num_cols = ['total_salary','total_benefits', 'total_compensation']\n",
    "for col in num_cols:\n",
    "    sns.displot(x = col, data=outlier_df)\n",
    "    plt.show()"
   ]
  },
  {
   "cell_type": "code",
   "execution_count": 187,
   "metadata": {},
   "outputs": [
    {
     "name": "stdout",
     "output_type": "stream",
     "text": [
      "Total_Salary outlier: 948\n",
      "Total_benefits outlier: 445\n",
      "Total_compensation outlier: 707\n"
     ]
    }
   ],
   "source": [
    "# total compensation first\n",
    "\n",
    "outlier_df['ts_zscore'] = np.abs(stats.zscore(df['total_salary']))\n",
    "outlier_df['tb_zscore'] = np.abs(stats.zscore(df['total_benefits']))\n",
    "outlier_df['tc_zscore'] = np.abs(stats.zscore(df['total_compensation']))\n",
    "\n",
    "print(\"Total_Salary outlier:\",  outlier_df[outlier_df['ts_zscore']> 3].shape[0])\n",
    "print(\"Total_benefits outlier:\",  outlier_df[outlier_df['tb_zscore']> 3].shape[0])\n",
    "print(\"Total_compensation outlier:\",  outlier_df[outlier_df['tc_zscore']> 3].shape[0])\n",
    "\n",
    "# Total_Salary outlier: 948\n",
    "# Total_benefits outlier: 445\n",
    "# Total_compensation outlier: 707"
   ]
  },
  {
   "cell_type": "markdown",
   "metadata": {},
   "source": [
    "### action\n",
    "drop outliers"
   ]
  },
  {
   "cell_type": "code",
   "execution_count": null,
   "metadata": {},
   "outputs": [],
   "source": []
  },
  {
   "cell_type": "code",
   "execution_count": 197,
   "metadata": {},
   "outputs": [
    {
     "data": {
      "text/plain": [
       "(163004, 15)"
      ]
     },
     "execution_count": 197,
     "metadata": {},
     "output_type": "execute_result"
    }
   ],
   "source": [
    "df = outlier_df[(outlier_df['ts_zscore']< 3)&(outlier_df['tb_zscore']< 3)&(outlier_df['tc_zscore']< 3)]\n",
    "df.drop(['ts_zscore','tb_zscore','tc_zscore'], axis=1, inplace=True)\n",
    "df.shape\n",
    "# (163004, 15)"
   ]
  },
  {
   "cell_type": "code",
   "execution_count": 198,
   "metadata": {},
   "outputs": [],
   "source": [
    "# only care total_salary and total_benefits outliers\n",
    "def outlier_remove(df):\n",
    "    df['ts_zscore'] = np.abs(stats.zscore(df['total_salary']))\n",
    "    df['tb_zscore'] = np.abs(stats.zscore(df['total_salary']))\n",
    "\n",
    "    df[(df['ts_zscore']< 3)&(outlier_df['tb_zscore']< 3)]\n",
    "    return df.drop(['ts_zscore','tb_zscore'], axis=1, inplace=True)"
   ]
  },
  {
   "cell_type": "markdown",
   "metadata": {},
   "source": [
    "#### the 3 total $ distribution after remove outliers"
   ]
  },
  {
   "cell_type": "code",
   "execution_count": 182,
   "metadata": {},
   "outputs": [
    {
     "data": {
      "text/plain": [
       "<seaborn.axisgrid.FacetGrid at 0x7faab7834a00>"
      ]
     },
     "execution_count": 182,
     "metadata": {},
     "output_type": "execute_result"
    },
    {
     "data": {
      "image/png": "[encoded data removed]",
      "text/plain": [
       "<Figure size 360x360 with 1 Axes>"
      ]
     },
     "metadata": {
      "needs_background": "light"
     },
     "output_type": "display_data"
    }
   ],
   "source": [
    "num_cols = ['total_salary','total_benefits', 'total_compensation']\n",
    "for col in num_cols:\n",
    "    sns.displot(x = col, data=outlier_df)\n",
    "    plt.show()"
   ]
  },
  {
   "cell_type": "code",
   "execution_count": 176,
   "metadata": {},
   "outputs": [
    {
     "data": {
      "image/png": "[encoded data removed]",
      "text/plain": [
       "<Figure size 432x288 with 1 Axes>"
      ]
     },
     "metadata": {
      "needs_background": "light"
     },
     "output_type": "display_data"
    },
    {
     "data": {
      "image/png": "[encoded data removed]",
      "text/plain": [
       "<Figure size 432x288 with 1 Axes>"
      ]
     },
     "metadata": {
      "needs_background": "light"
     },
     "output_type": "display_data"
    },
    {
     "data": {
      "image/png": "[encoded data removed]",
      "text/plain": [
       "<Figure size 432x288 with 1 Axes>"
      ]
     },
     "metadata": {
      "needs_background": "light"
     },
     "output_type": "display_data"
    }
   ],
   "source": [
    "\n",
    "num_cols = ['total_salary','total_benefits', 'total_compensation']\n",
    "for col in num_cols:\n",
    "    sns.boxplot(y = outlier_df['organization_group'], x = col, data=outlier_df)\n",
    "    plt.show()"
   ]
  },
  {
   "cell_type": "markdown",
   "metadata": {},
   "source": [
    "Explore categorical variables \n",
    "1. organization_group: 6 different group, The \"Public Works, Transportation & Commerce\" org group with 53192 records, while \"Human Welfare & Neighborhood Development\" is the least with 14061 records\n",
    "\n",
    "\n",
    "Job:\n",
    "Transit Operator             10986\n",
    "Special Nurse                 6423\n",
    "Registered Nurse              6015\n"
   ]
  },
  {
   "cell_type": "code",
   "execution_count": 67,
   "metadata": {},
   "outputs": [
    {
     "data": {
      "text/plain": [
       "Public Works, Transportation & Commerce     53192\n",
       "Community Health                            38362\n",
       "Public Protection                           32623\n",
       "General Administration & Finance            16065\n",
       "Culture & Recreation                        14134\n",
       "Human Welfare & Neighborhood Development    14061\n",
       "Name: organization_group, dtype: int64"
      ]
     },
     "execution_count": 67,
     "metadata": {},
     "output_type": "execute_result"
    }
   ],
   "source": [
    "df.organization_group.value_counts()"
   ]
  },
  {
   "cell_type": "code",
   "execution_count": null,
   "metadata": {},
   "outputs": [],
   "source": [
    "# "
   ]
  },
  {
   "cell_type": "code",
   "execution_count": 69,
   "metadata": {},
   "outputs": [
    {
     "data": {
      "text/plain": [
       "Text(0.5, 1.0, 'Org group value counts')"
      ]
     },
     "execution_count": 69,
     "metadata": {},
     "output_type": "execute_result"
    },
    {
     "data": {
      "image/png": "[encoded data removed]",
      "text/plain": [
       "<Figure size 432x288 with 1 Axes>"
      ]
     },
     "metadata": {
      "needs_background": "light"
     },
     "output_type": "display_data"
    }
   ],
   "source": [
    "# org_group value counts\n",
    "sns.barplot(x=df.organization_group.value_counts().index, y=df.organization_group.value_counts())\n",
    "plt.xticks(rotation=90)\n",
    "plt.title('Org group value counts')"
   ]
  },
  {
   "cell_type": "code",
   "execution_count": 78,
   "metadata": {},
   "outputs": [
    {
     "data": {
      "text/plain": [
       "Public Health                     38362\n",
       "Municipal Transportation Agcy     25883\n",
       "Police                            12883\n",
       "Human Services                    11965\n",
       "Public Utilities Commission       10064\n",
       "Recreation And Park Commission     8519\n",
       "Fire Department                    7731\n",
       "Airport Commission                 7601\n",
       "Department Of Public Works         6648\n",
       "Administrative Services            4479\n",
       "Name: department, dtype: int64"
      ]
     },
     "execution_count": 78,
     "metadata": {},
     "output_type": "execute_result"
    }
   ],
   "source": [
    "df.department.value_counts().head(10)"
   ]
  },
  {
   "cell_type": "code",
   "execution_count": 83,
   "metadata": {},
   "outputs": [
    {
     "data": {
      "image/png": "[encoded data removed]",
      "text/plain": [
       "<Figure size 432x288 with 1 Axes>"
      ]
     },
     "metadata": {
      "needs_background": "light"
     },
     "output_type": "display_data"
    }
   ],
   "source": [
    "sns.barplot(x=df.department.value_counts()[:5].index, y=df.department.value_counts()[:5])\n",
    "plt.xticks(rotation=45)\n",
    "plt.title('Top 5 Departments value counts')\n",
    "plt.show()"
   ]
  },
  {
   "cell_type": "code",
   "execution_count": 84,
   "metadata": {},
   "outputs": [
    {
     "data": {
      "image/png": "[encoded data removed]",
      "text/plain": [
       "<Figure size 432x288 with 1 Axes>"
      ]
     },
     "metadata": {
      "needs_background": "light"
     },
     "output_type": "display_data"
    }
   ],
   "source": [
    "sns.barplot(x=df.job_family.value_counts()[:5].index, y=df.job_family.value_counts()[:5])\n",
    "plt.xticks(rotation=45)\n",
    "plt.title('Top 5 Job Family value counts')\n",
    "plt.show()"
   ]
  },
  {
   "cell_type": "code",
   "execution_count": 86,
   "metadata": {},
   "outputs": [
    {
     "data": {
      "text/plain": [
       "Transit Operator             10986\n",
       "Special Nurse                 6423\n",
       "Registered Nurse              6015\n",
       "Firefighter                   3480\n",
       "Custodian                     3476\n",
       "Police Officer 3              3441\n",
       "Public Service Trainee        2794\n",
       "Recreation Leader             2404\n",
       "Patient Care Assistant        2261\n",
       "HSA Sr Eligibility Worker     2177\n",
       "Name: job, dtype: int64"
      ]
     },
     "execution_count": 86,
     "metadata": {},
     "output_type": "execute_result"
    }
   ],
   "source": [
    "df.job.value_counts().head(10)"
   ]
  },
  {
   "cell_type": "code",
   "execution_count": 85,
   "metadata": {},
   "outputs": [
    {
     "data": {
      "image/png": "[encoded data removed]",
      "text/plain": [
       "<Figure size 432x288 with 1 Axes>"
      ]
     },
     "metadata": {
      "needs_background": "light"
     },
     "output_type": "display_data"
    }
   ],
   "source": [
    "sns.barplot(x=df.job.value_counts()[:5].index, y=df.job.value_counts()[:5])\n",
    "plt.xticks(rotation=45)\n",
    "plt.title('Top 5 Job value counts')\n",
    "plt.show()"
   ]
  },
  {
   "cell_type": "markdown",
   "metadata": {},
   "source": [
    "Section 1 conclusion:\n",
    "\n",
    "We have total of 22 columns\n"
   ]
  },
  {
   "cell_type": "markdown",
   "metadata": {},
   "source": []
  },
  {
   "cell_type": "markdown",
   "metadata": {},
   "source": [
    "### Aggregated Table Explore"
   ]
  },
  {
   "cell_type": "code",
   "execution_count": null,
   "metadata": {},
   "outputs": [],
   "source": [
    "df.groupby(['Organization Group'])[money_df.columns].describe()"
   ]
  },
  {
   "cell_type": "code",
   "execution_count": 6,
   "metadata": {},
   "outputs": [
    {
     "name": "stderr",
     "output_type": "stream",
     "text": [
      "/var/folders/30/kt35bq3n3_b90dxt80z_vjjw0000gn/T/ipykernel_41980/849934878.py:1: FutureWarning: Indexing with multiple keys (implicitly converted to a tuple of keys) will be deprecated, use a list instead.\n",
      "  test_df = df.groupby(['Year Type','Year','Job'])['Salaries','Total Compensation'].mean()\n"
     ]
    },
    {
     "data": {
      "text/html": [
       "<div>\n",
       "<style scoped>\n",
       "    .dataframe tbody tr th:only-of-type {\n",
       "        vertical-align: middle;\n",
       "    }\n",
       "\n",
       "    .dataframe tbody tr th {\n",
       "        vertical-align: top;\n",
       "    }\n",
       "\n",
       "    .dataframe thead th {\n",
       "        text-align: right;\n",
       "    }\n",
       "</style>\n",
       "<table border=\"1\" class=\"dataframe\">\n",
       "  <thead>\n",
       "    <tr style=\"text-align: right;\">\n",
       "      <th></th>\n",
       "      <th></th>\n",
       "      <th></th>\n",
       "      <th>Salaries</th>\n",
       "      <th>Total Compensation</th>\n",
       "    </tr>\n",
       "    <tr>\n",
       "      <th>Year Type</th>\n",
       "      <th>Year</th>\n",
       "      <th>Job</th>\n",
       "      <th></th>\n",
       "      <th></th>\n",
       "    </tr>\n",
       "  </thead>\n",
       "  <tbody>\n",
       "    <tr>\n",
       "      <th rowspan=\"10\" valign=\"top\">Calendar</th>\n",
       "      <th rowspan=\"10\" valign=\"top\">2013</th>\n",
       "      <th>Account Clerk</th>\n",
       "      <td>40388.399216</td>\n",
       "      <td>61702.154608</td>\n",
       "    </tr>\n",
       "    <tr>\n",
       "      <th>Accountant I</th>\n",
       "      <td>67838.413333</td>\n",
       "      <td>99504.836667</td>\n",
       "    </tr>\n",
       "    <tr>\n",
       "      <th>Accountant II</th>\n",
       "      <td>57121.076629</td>\n",
       "      <td>83004.125506</td>\n",
       "    </tr>\n",
       "    <tr>\n",
       "      <th>Accountant III</th>\n",
       "      <td>67190.154862</td>\n",
       "      <td>94839.112844</td>\n",
       "    </tr>\n",
       "    <tr>\n",
       "      <th>Accountant IV</th>\n",
       "      <td>85711.871500</td>\n",
       "      <td>118490.453333</td>\n",
       "    </tr>\n",
       "    <tr>\n",
       "      <th>Accountant Intern</th>\n",
       "      <td>24530.535614</td>\n",
       "      <td>36561.595965</td>\n",
       "    </tr>\n",
       "    <tr>\n",
       "      <th>Acupuncturist</th>\n",
       "      <td>75411.000000</td>\n",
       "      <td>111214.280000</td>\n",
       "    </tr>\n",
       "    <tr>\n",
       "      <th>Adm, SFGH Medical Center</th>\n",
       "      <td>276831.500000</td>\n",
       "      <td>355107.360000</td>\n",
       "    </tr>\n",
       "    <tr>\n",
       "      <th>Admin Analyst 3</th>\n",
       "      <td>68009.620000</td>\n",
       "      <td>96174.406667</td>\n",
       "    </tr>\n",
       "    <tr>\n",
       "      <th>Administrative Analyst</th>\n",
       "      <td>62668.591644</td>\n",
       "      <td>89979.665274</td>\n",
       "    </tr>\n",
       "  </tbody>\n",
       "</table>\n",
       "</div>"
      ],
      "text/plain": [
       "                                              Salaries  Total Compensation\n",
       "Year Type Year Job                                                        \n",
       "Calendar  2013 Account Clerk              40388.399216        61702.154608\n",
       "               Accountant I               67838.413333        99504.836667\n",
       "               Accountant II              57121.076629        83004.125506\n",
       "               Accountant III             67190.154862        94839.112844\n",
       "               Accountant IV              85711.871500       118490.453333\n",
       "               Accountant Intern          24530.535614        36561.595965\n",
       "               Acupuncturist              75411.000000       111214.280000\n",
       "               Adm, SFGH Medical Center  276831.500000       355107.360000\n",
       "               Admin Analyst 3            68009.620000        96174.406667\n",
       "               Administrative Analyst     62668.591644        89979.665274"
      ]
     },
     "execution_count": 6,
     "metadata": {},
     "output_type": "execute_result"
    }
   ],
   "source": [
    "test_df = df.groupby(['Year Type','Year','Job'])['Salaries','Total Compensation'].mean()\n",
    "test_df.head(10)"
   ]
  },
  {
   "cell_type": "code",
   "execution_count": 8,
   "metadata": {},
   "outputs": [
    {
     "data": {
      "text/html": [
       "<div>\n",
       "<style scoped>\n",
       "    .dataframe tbody tr th:only-of-type {\n",
       "        vertical-align: middle;\n",
       "    }\n",
       "\n",
       "    .dataframe tbody tr th {\n",
       "        vertical-align: top;\n",
       "    }\n",
       "\n",
       "    .dataframe thead th {\n",
       "        text-align: right;\n",
       "    }\n",
       "</style>\n",
       "<table border=\"1\" class=\"dataframe\">\n",
       "  <thead>\n",
       "    <tr style=\"text-align: right;\">\n",
       "      <th></th>\n",
       "      <th></th>\n",
       "      <th>Salaries</th>\n",
       "      <th>Total Compensation</th>\n",
       "    </tr>\n",
       "    <tr>\n",
       "      <th>Year Type</th>\n",
       "      <th>Year</th>\n",
       "      <th></th>\n",
       "      <th></th>\n",
       "    </tr>\n",
       "  </thead>\n",
       "  <tbody>\n",
       "    <tr>\n",
       "      <th rowspan=\"9\" valign=\"top\">Calendar</th>\n",
       "      <th>2013</th>\n",
       "      <td>64717.640360</td>\n",
       "      <td>99638.412577</td>\n",
       "    </tr>\n",
       "    <tr>\n",
       "      <th>2014</th>\n",
       "      <td>62261.763051</td>\n",
       "      <td>97717.615926</td>\n",
       "    </tr>\n",
       "    <tr>\n",
       "      <th>2015</th>\n",
       "      <td>63801.845319</td>\n",
       "      <td>98605.356720</td>\n",
       "    </tr>\n",
       "    <tr>\n",
       "      <th>2016</th>\n",
       "      <td>66498.335433</td>\n",
       "      <td>102014.919491</td>\n",
       "    </tr>\n",
       "    <tr>\n",
       "      <th>2017</th>\n",
       "      <td>74770.937352</td>\n",
       "      <td>114479.846099</td>\n",
       "    </tr>\n",
       "    <tr>\n",
       "      <th>2018</th>\n",
       "      <td>76919.412119</td>\n",
       "      <td>118348.406340</td>\n",
       "    </tr>\n",
       "    <tr>\n",
       "      <th>2019</th>\n",
       "      <td>77060.393590</td>\n",
       "      <td>119842.301509</td>\n",
       "    </tr>\n",
       "    <tr>\n",
       "      <th>2020</th>\n",
       "      <td>86018.214281</td>\n",
       "      <td>134258.764395</td>\n",
       "    </tr>\n",
       "    <tr>\n",
       "      <th>2021</th>\n",
       "      <td>90601.774692</td>\n",
       "      <td>142360.177374</td>\n",
       "    </tr>\n",
       "    <tr>\n",
       "      <th>Fiscal</th>\n",
       "      <th>2013</th>\n",
       "      <td>62875.983167</td>\n",
       "      <td>96087.879968</td>\n",
       "    </tr>\n",
       "  </tbody>\n",
       "</table>\n",
       "</div>"
      ],
      "text/plain": [
       "                    Salaries  Total Compensation\n",
       "Year Type Year                                  \n",
       "Calendar  2013  64717.640360        99638.412577\n",
       "          2014  62261.763051        97717.615926\n",
       "          2015  63801.845319        98605.356720\n",
       "          2016  66498.335433       102014.919491\n",
       "          2017  74770.937352       114479.846099\n",
       "          2018  76919.412119       118348.406340\n",
       "          2019  77060.393590       119842.301509\n",
       "          2020  86018.214281       134258.764395\n",
       "          2021  90601.774692       142360.177374\n",
       "Fiscal    2013  62875.983167        96087.879968"
      ]
     },
     "execution_count": 8,
     "metadata": {},
     "output_type": "execute_result"
    }
   ],
   "source": [
    "test_df = df.groupby(['Year Type','Year'])[['Salaries','Total Compensation']].mean()\n",
    "test_df.head(10)"
   ]
  },
  {
   "cell_type": "code",
   "execution_count": null,
   "metadata": {},
   "outputs": [],
   "source": [
    "groupped_by_department = corrected_df.groupby(by='Department')\n",
    "departments_stats = groupped_by_department['Salaries'].agg(['mean', 'sum', 'count', 'std'])\n",
    "departments_stats['sum'] = departments_stats['sum'] / 1000000000.0\n",
    "\n",
    "top_departments_by_department_budget = departments_stats.sort_values(by='sum', ascending=False).iloc[0:10]\n",
    "top_departments_by_average_salary = departments_stats.sort_values(by='mean', ascending=False).iloc[0:10]"
   ]
  }
 ],
 "metadata": {
  "interpreter": {
   "hash": "db0d87753a3167c8299cb93ea2ec7a01b47f0c7d65110ed841e7cea25c0a4915"
  },
  "kernelspec": {
   "display_name": "Python 3.8.3 ('py_dash_env')",
   "language": "python",
   "name": "python3"
  },
  "language_info": {
   "codemirror_mode": {
    "name": "ipython",
    "version": 3
   },
   "file_extension": ".py",
   "mimetype": "text/x-python",
   "name": "python",
   "nbconvert_exporter": "python",
   "pygments_lexer": "ipython3",
   "version": "3.8.3"
  },
  "orig_nbformat": 4
 },
 "nbformat": 4,
 "nbformat_minor": 2
}
